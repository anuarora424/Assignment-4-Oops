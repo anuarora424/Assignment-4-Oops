{
  "nbformat": 4,
  "nbformat_minor": 0,
  "metadata": {
    "colab": {
      "provenance": []
    },
    "kernelspec": {
      "name": "python3",
      "display_name": "Python 3"
    },
    "language_info": {
      "name": "python"
    }
  },
  "cells": [
    {
      "cell_type": "markdown",
      "source": [
        "1. What are the five key concepts of Object-Oriented Programming (OOP)?"
      ],
      "metadata": {
        "id": "1RaEsTlsr87m"
      }
    },
    {
      "cell_type": "markdown",
      "source": [
        "The five key concepts of Object-Oriented Programming (OOP) are:"
      ],
      "metadata": {
        "id": "joLKDeMOsKht"
      }
    },
    {
      "cell_type": "code",
      "source": [
        "1. Class: A blueprint or template that defines the properties (attributes) and behaviors (methods) that objects created from the class will have.\n",
        "   It encapsulates data and functionality.\n",
        "\n",
        "2. Object: An instance of a class. Objects are created based on the class definition and have their own unique attributes and behaviors defined by the class.\n",
        "\n",
        "3. Encapsulation: The bundling of data (attributes) and methods (functions) that operate on the data into a single unit (class).\n",
        "   Encapsulation restricts direct access to some of the object’s components, usually through access control\n",
        "   (e.g., private or protected modifiers), promoting controlled data manipulation.\n",
        "\n",
        "4. Inheritance: A mechanism that allows one class (subclass or derived class) to inherit attributes and methods from another class (superclass or base class).\n",
        "   This promotes code reuse and establishes a relationship between classes, allowing the subclass to override or extend the functionality of the superclass.\n",
        "\n",
        "5. Polymorphism: The ability to present the same interface for different underlying data types.\n",
        "   Polymorphism allows objects of different classes to be treated as objects of a common superclass, typically using method overriding (dynamic polymorphism)\n",
        "   or method overloading (static polymorphism).\n"
      ],
      "metadata": {
        "id": "g4Kil-twsO7d"
      },
      "execution_count": null,
      "outputs": []
    },
    {
      "cell_type": "code",
      "source": [
        "These concepts form the foundation of OOP and are used to create modular, reusable, and organized code.\n"
      ],
      "metadata": {
        "id": "vHWupgOvtfAu"
      },
      "execution_count": null,
      "outputs": []
    },
    {
      "cell_type": "markdown",
      "source": [
        "2. Write a Python class for a Car with attributes for make, model, and year. Include a method to display the car's information?"
      ],
      "metadata": {
        "id": "4ozjFJ6Ut6hs"
      }
    },
    {
      "cell_type": "markdown",
      "source": [
        "Here is a Python class for a Car with attributes for make, model, and year, along with a method to display the car's information:"
      ],
      "metadata": {
        "id": "goUZWYp8t_O0"
      }
    },
    {
      "cell_type": "code",
      "source": [
        "class Car:\n",
        "    def __init__(self, make, model, year):\n",
        "        self.make = make\n",
        "        self.model = model\n",
        "        self.year = year\n",
        "\n",
        "    def display_info(self):\n",
        "        print(f\"Car Information: {self.year} {self.make} {self.model}\")\n",
        "\n",
        "# Example usage\n",
        "my_car = Car(\"Toyota\", \"Corolla\", 2020)\n",
        "my_car.display_info()"
      ],
      "metadata": {
        "id": "XHsbFXdIuFoN"
      },
      "execution_count": null,
      "outputs": []
    },
    {
      "cell_type": "code",
      "source": [
        "In this class:\n",
        "\n",
        "1) The __init__ method initializes the make, model, and year attributes.\n",
        "\n",
        "2)The display_info method prints the car's information in a formatted string.\n",
        "\n",
        "\n",
        "You can create instances of Car and call display_info() to print the details.\n"
      ],
      "metadata": {
        "id": "aN7rjq8TuHnk"
      },
      "execution_count": null,
      "outputs": []
    },
    {
      "cell_type": "markdown",
      "source": [
        "3. Explain the difference between instance methods and class methods. Provide an example of each?"
      ],
      "metadata": {
        "id": "mahhOcBGuSj8"
      }
    },
    {
      "cell_type": "markdown",
      "source": [
        "In Python, both instance methods and class methods are ways to define behavior for a class, but they differ in how they operate and the type of data they act on."
      ],
      "metadata": {
        "id": "PIBjS9wiucdc"
      }
    },
    {
      "cell_type": "code",
      "source": [
        "1. Instance Methods:\n",
        "\n",
        "1) Definition: These methods are associated with instances (objects) of the class.\n",
        "\n",
        "2) Usage: They operate on instance-specific data, meaning they have access to the instance's attributes.\n",
        "\n",
        "3) How it works: The first parameter of an instance method is typically self, which refers to the instance of the class that is invoking the method.\n",
        "\n",
        "4) Access: Instance methods can access and modify object attributes and invoke other instance methods.\n"
      ],
      "metadata": {
        "id": "e22bMrdguh7V"
      },
      "execution_count": null,
      "outputs": []
    },
    {
      "cell_type": "code",
      "source": [
        "Example of an Instance Method:"
      ],
      "metadata": {
        "id": "1-Nd_imNuwkg"
      },
      "execution_count": null,
      "outputs": []
    },
    {
      "cell_type": "code",
      "source": [
        "class Dog:\n",
        "    def __init__(self, name, breed):\n",
        "        self.name = name\n",
        "        self.breed = breed\n",
        "\n",
        "    def bark(self):  # instance method\n",
        "        print(f\"{self.name} says Woof!\")\n",
        "\n",
        "# Creating an instance of Dog\n",
        "dog1 = Dog(\"Buddy\", \"Golden Retriever\")\n",
        "dog1.bark()  # Output: Buddy says Woof!"
      ],
      "metadata": {
        "colab": {
          "base_uri": "https://localhost:8080/"
        },
        "id": "NTFOU8EIuy-G",
        "outputId": "22c47466-c21e-4215-bdaf-af5c9576ed1f"
      },
      "execution_count": null,
      "outputs": [
        {
          "output_type": "stream",
          "name": "stdout",
          "text": [
            "Buddy says Woof!\n"
          ]
        }
      ]
    },
    {
      "cell_type": "code",
      "source": [
        "Here, bark() is an instance method because it operates on an instance of the class Dog and accesses the instance variable self.name."
      ],
      "metadata": {
        "id": "6zypF1WGvAlc"
      },
      "execution_count": null,
      "outputs": []
    },
    {
      "cell_type": "code",
      "source": [
        "2. Class Methods:\n",
        "\n",
        "1) Definition: These methods are associated with the class itself, not with instances of the class.\n",
        "\n",
        "2) Usage: They are often used when you need to perform an operation that is related to the class, rather than any particular instance.\n",
        "\n",
        "3) How it works: The first parameter of a class method is typically cls, which refers to the class itself (not an instance).\n",
        "\n",
        "4) Decorator: Class methods are defined using the @classmethod decorator.\n",
        "\n",
        "5) Access: Class methods cannot modify instance-specific data but can modify class-level attributes (shared by all instances of the class).\n"
      ],
      "metadata": {
        "id": "HbZAhBWovCOM"
      },
      "execution_count": null,
      "outputs": []
    },
    {
      "cell_type": "code",
      "source": [
        "Example of a Class Method:"
      ],
      "metadata": {
        "id": "FHQvCuThvNdV"
      },
      "execution_count": null,
      "outputs": []
    },
    {
      "cell_type": "code",
      "source": [
        "class Dog:\n",
        "    species = \"Canis Familiaris\"  # class-level attribute\n",
        "\n",
        "    def __init__(self, name, breed):\n",
        "        self.name = name\n",
        "        self.breed = breed\n",
        "\n",
        "    @classmethod\n",
        "    def get_species(cls):  # class method\n",
        "        return cls.species\n",
        "\n",
        "# Accessing the class method\n",
        "print(Dog.get_species())  # Output: Canis Familiaris\n"
      ],
      "metadata": {
        "colab": {
          "base_uri": "https://localhost:8080/"
        },
        "id": "x5Kvi0KDvRUc",
        "outputId": "157cb6da-cebd-4177-e064-5c4b2715846d"
      },
      "execution_count": null,
      "outputs": [
        {
          "output_type": "stream",
          "name": "stdout",
          "text": [
            "Canis Familiaris\n"
          ]
        }
      ]
    },
    {
      "cell_type": "code",
      "source": [
        "In this example, get_species() is a class method that accesses the class-level attribute species.\n",
        "\n",
        "This method doesn't require an instance to be called and operates on the class rather than any specific object.\n"
      ],
      "metadata": {
        "id": "v_Pc_2-3vUXV"
      },
      "execution_count": null,
      "outputs": []
    },
    {
      "cell_type": "code",
      "source": [
        "Key Differences:\n",
        "\n",
        "1) Instance Method: Operates on an instance of a class and can access instance-specific data via self.\n",
        "\n",
        "2) Class Method: Operates on the class itself and is commonly used for class-wide operations, using cls instead of self."
      ],
      "metadata": {
        "id": "1csJ5BucvY5N"
      },
      "execution_count": null,
      "outputs": []
    },
    {
      "cell_type": "markdown",
      "source": [
        "4. How does Python implement method overloading? Give an example?"
      ],
      "metadata": {
        "id": "Msqg5f_cTSUb"
      }
    },
    {
      "cell_type": "markdown",
      "source": [
        "Python does not support traditional method overloading (like some languages such as C++ or Java), where you can define multiple methods with the same name but different signatures (different parameters). Instead, Python uses a more flexible mechanism, where the latest defined method will overwrite any previous methods with the same name."
      ],
      "metadata": {
        "id": "gREyBjQxTdv7"
      }
    },
    {
      "cell_type": "code",
      "source": [
        "However, you can implement behavior similar to method overloading by using default arguments,\n",
        " variable-length arguments (*args, **kwargs), and type checking within a single method. Here’s an example to illustrate how this works:"
      ],
      "metadata": {
        "id": "aUvOzw53TgDT"
      },
      "execution_count": null,
      "outputs": []
    },
    {
      "cell_type": "code",
      "source": [
        "Example using default arguments and *args:"
      ],
      "metadata": {
        "id": "qojq35CLTbUO"
      },
      "execution_count": null,
      "outputs": []
    },
    {
      "cell_type": "code",
      "source": [
        "class MathOperations:\n",
        "    def add(self, *args):\n",
        "        # If no arguments passed, return 0\n",
        "        if len(args) == 0:\n",
        "            return 0\n",
        "        # If one argument, return the argument\n",
        "        elif len(args) == 1:\n",
        "            return args[0]\n",
        "        # If two arguments, return their sum\n",
        "        elif len(args) == 2:\n",
        "            return args[0] + args[1]\n",
        "        # If more than two arguments, sum them all\n",
        "        else:\n",
        "            return sum(args)\n",
        "\n",
        "# Create an object\n",
        "math_op = MathOperations()\n",
        "\n",
        "# Call the method with different number of arguments\n",
        "print(math_op.add())             # Output: 0 (no arguments)\n",
        "print(math_op.add(5))            # Output: 5 (one argument)\n",
        "print(math_op.add(5, 10))        # Output: 15 (two arguments)\n",
        "print(math_op.add(1, 2, 3, 4))   # Output: 10 (multiple arguments)\n"
      ],
      "metadata": {
        "colab": {
          "base_uri": "https://localhost:8080/"
        },
        "id": "1ptzsE8aTmuM",
        "outputId": "b0b756b5-9f90-4612-ed3f-bb4fe5509ffe"
      },
      "execution_count": null,
      "outputs": [
        {
          "output_type": "stream",
          "name": "stdout",
          "text": [
            "0\n",
            "5\n",
            "15\n",
            "10\n"
          ]
        }
      ]
    },
    {
      "cell_type": "code",
      "source": [
        "Explanation:\n",
        "\n",
        "1) The add method uses *args to accept a variable number of arguments.\n",
        "\n",
        "2) Based on the number of arguments passed, the method behaves differently.\n",
        "\n",
        "3) Python does not need separate method definitions for each case (i.e., no overloading).\n"
      ],
      "metadata": {
        "id": "5erqNLVwTsYH"
      },
      "execution_count": null,
      "outputs": []
    },
    {
      "cell_type": "code",
      "source": [
        "This provides a flexible alternative to method overloading, allowing you to define behavior for different cases within a single method.\n",
        "\n",
        "You can further extend this by adding type checking using the isinstance() function if needed."
      ],
      "metadata": {
        "id": "N7xTI_jOTz9p"
      },
      "execution_count": null,
      "outputs": []
    },
    {
      "cell_type": "markdown",
      "source": [
        "5. What are the three types of access modifiers in Python? How are they denoted?"
      ],
      "metadata": {
        "id": "8mPPXF1-T9QJ"
      }
    },
    {
      "cell_type": "markdown",
      "source": [
        "In Python, access modifiers are used to control the visibility of variables and methods within a class. Python does not have explicit access control keywords like some other languages (e.g., public, private, protected), but it uses naming conventions to indicate access levels."
      ],
      "metadata": {
        "id": "T5murb35T_V0"
      }
    },
    {
      "cell_type": "code",
      "source": [
        "Here are the three types of access modifiers in Python:"
      ],
      "metadata": {
        "id": "9wlZBAQeUHWb"
      },
      "execution_count": null,
      "outputs": []
    },
    {
      "cell_type": "code",
      "source": [
        "1. Public:\n",
        "\n",
        "1) Denoted by: No underscores (_) before the variable or method name.\n",
        "\n",
        "2) Accessibility: Public members can be accessed from anywhere inside or outside the class."
      ],
      "metadata": {
        "id": "Fa9b8OMYUJvD"
      },
      "execution_count": null,
      "outputs": []
    },
    {
      "cell_type": "code",
      "source": [
        "Example:"
      ],
      "metadata": {
        "id": "wb17-5BLUPVq"
      },
      "execution_count": null,
      "outputs": []
    },
    {
      "cell_type": "code",
      "source": [
        "class MyClass:\n",
        "    def __init__(self):\n",
        "        self.public_var = \"I am public\"\n",
        "\n",
        "obj = MyClass()\n",
        "print(obj.public_var)  # Accessible"
      ],
      "metadata": {
        "id": "Ne4UdSU2UR7U"
      },
      "execution_count": null,
      "outputs": []
    },
    {
      "cell_type": "code",
      "source": [
        "2. Protected:\n",
        "\n",
        "1) Denoted by: A single leading underscore (_).\n",
        "\n",
        "2) Accessibility: Protected members can be accessed within the class and by subclasses, but they are intended to be treated as \"protected\" by convention,\n",
        "   meaning that they should not be accessed from outside the class or its subclasses.\n"
      ],
      "metadata": {
        "id": "OMB4dAdYUVIC"
      },
      "execution_count": null,
      "outputs": []
    },
    {
      "cell_type": "code",
      "source": [
        "Example:"
      ],
      "metadata": {
        "id": "xFhyIb3IVW-K"
      },
      "execution_count": null,
      "outputs": []
    },
    {
      "cell_type": "code",
      "source": [
        "class MyClass:\n",
        "    def __init__(self):\n",
        "        self._protected_var = \"I am protected\"\n",
        "\n",
        "obj = MyClass()\n",
        "print(obj._protected_var)  # Can be accessed, but convention advises against it"
      ],
      "metadata": {
        "id": "g-Bfsbv5Vauk"
      },
      "execution_count": null,
      "outputs": []
    },
    {
      "cell_type": "code",
      "source": [
        "3.Private:\n",
        "\n",
        "1) Denoted by: Two leading underscores (__).\n",
        "\n",
        "2) Accessibility: Private members cannot be accessed from outside the class directly.\n",
        "   Python performs name mangling to make these members harder to access, although they are still accessible through a special name-mangled form.\n"
      ],
      "metadata": {
        "id": "lbj31dy8Vc8b"
      },
      "execution_count": null,
      "outputs": []
    },
    {
      "cell_type": "code",
      "source": [
        "Example:"
      ],
      "metadata": {
        "id": "v9g43yfzV20D"
      },
      "execution_count": null,
      "outputs": []
    },
    {
      "cell_type": "code",
      "source": [
        "class MyClass:\n",
        "    def __init__(self):\n",
        "        self.__private_var = \"I am private\"\n",
        "\n",
        "obj = MyClass()\n",
        "# print(obj.__private_var)  # This would raise an AttributeError\n",
        "print(obj._MyClass__private_var)  # Name mangling allows access"
      ],
      "metadata": {
        "id": "rN9lfhexV6Ae"
      },
      "execution_count": null,
      "outputs": []
    },
    {
      "cell_type": "code",
      "source": [
        "In summary:\n",
        "\n",
        "1) Public: No underscores, accessible everywhere.\n",
        "\n",
        "2) Protected: Single underscore (_), accessible in the class and subclasses (but should be treated as internal).\n",
        "\n",
        "3) Private: Double underscores (__), access is restricted with name mangling but can still be accessed in a special way.\n"
      ],
      "metadata": {
        "id": "8R-z_eRRV9Mo"
      },
      "execution_count": null,
      "outputs": []
    },
    {
      "cell_type": "markdown",
      "source": [
        "6. 6. Describe the five types of inheritance in Python. Provide a simple example of multiple inheritance?"
      ],
      "metadata": {
        "id": "2sMJ7c78Wek9"
      }
    },
    {
      "cell_type": "code",
      "source": [
        "In Python, there are five types of inheritance, each allowing a class to inherit properties and methods from one or more parent classes.\n",
        " Here's a breakdown of each type:"
      ],
      "metadata": {
        "id": "gEXbbGmdWlHS"
      },
      "execution_count": null,
      "outputs": []
    },
    {
      "cell_type": "code",
      "source": [
        "1.  Single Inheritance\n",
        "\n",
        "In single inheritance, a child class inherits from only one parent class."
      ],
      "metadata": {
        "id": "rfY6d6jTX2cz"
      },
      "execution_count": null,
      "outputs": []
    },
    {
      "cell_type": "code",
      "source": [
        "class Parent:\n",
        "    def greet(self):\n",
        "        print(\"Hello from Parent\")\n",
        "\n",
        "class Child(Parent):\n",
        "    pass\n",
        "\n",
        "obj = Child()\n",
        "obj.greet()  # Output: Hello from Parent"
      ],
      "metadata": {
        "colab": {
          "base_uri": "https://localhost:8080/"
        },
        "id": "Qr0AW29IYTxa",
        "outputId": "aefe9efe-b7f4-4986-f3ae-758674f9bb0b"
      },
      "execution_count": null,
      "outputs": [
        {
          "output_type": "stream",
          "name": "stdout",
          "text": [
            "Hello from Parent\n"
          ]
        }
      ]
    },
    {
      "cell_type": "code",
      "source": [
        "2. Multiple Inheritance\n",
        "\n",
        "In multiple inheritance, a child class inherits from more than one parent class. This can lead to complexities such as the \"diamond problem,\"\n",
        "which Python solves using the Method Resolution Order (MRO).\n"
      ],
      "metadata": {
        "id": "FVpdrOu9YSy-"
      },
      "execution_count": null,
      "outputs": []
    },
    {
      "cell_type": "code",
      "source": [
        "class Parent1:\n",
        "    def greet(self):\n",
        "        print(\"Hello from Parent1\")\n",
        "\n",
        "class Parent2:\n",
        "    def greet(self):\n",
        "        print(\"Hello from Parent2\")\n",
        "\n",
        "class Child(Parent1, Parent2):\n",
        "    pass\n",
        "\n",
        "obj = Child()\n",
        "obj.greet()  # Output: Hello from Parent1 (based on MRO)"
      ],
      "metadata": {
        "colab": {
          "base_uri": "https://localhost:8080/"
        },
        "id": "psE9-PnQYhks",
        "outputId": "f9febdc2-818b-4cdb-fa77-017ea26bedd9"
      },
      "execution_count": null,
      "outputs": [
        {
          "output_type": "stream",
          "name": "stdout",
          "text": [
            "Hello from Parent1\n"
          ]
        }
      ]
    },
    {
      "cell_type": "code",
      "source": [
        "3. Multilevel Inheritance"
      ],
      "metadata": {
        "id": "huw7D5f9Ynqf"
      },
      "execution_count": null,
      "outputs": []
    },
    {
      "cell_type": "code",
      "source": [
        "In multilevel inheritance, a class inherits from a class that is itself a derived class."
      ],
      "metadata": {
        "id": "Wkf0-_NjYtID"
      },
      "execution_count": null,
      "outputs": []
    },
    {
      "cell_type": "code",
      "source": [
        "class Grandparent:\n",
        "    def greet(self):\n",
        "        print(\"Hello from Grandparent\")\n",
        "\n",
        "class Parent(Grandparent):\n",
        "    pass\n",
        "\n",
        "class Child(Parent):\n",
        "    pass\n",
        "\n",
        "obj = Child()\n",
        "obj.greet()  # Output: Hello from Grandparent"
      ],
      "metadata": {
        "colab": {
          "base_uri": "https://localhost:8080/"
        },
        "id": "Qg3VHgDnYws6",
        "outputId": "593b9d4a-928f-4f09-bc2b-94ac3f3883b8"
      },
      "execution_count": null,
      "outputs": [
        {
          "output_type": "stream",
          "name": "stdout",
          "text": [
            "Hello from Grandparent\n"
          ]
        }
      ]
    },
    {
      "cell_type": "code",
      "source": [
        "4. Hierarchical Inheritance\n",
        "\n",
        "In hierarchical inheritance, multiple child classes inherit from the same parent class.\n"
      ],
      "metadata": {
        "id": "xqwsdl-RY-qq"
      },
      "execution_count": null,
      "outputs": []
    },
    {
      "cell_type": "code",
      "source": [
        "class Parent:\n",
        "    def greet(self):\n",
        "        print(\"Hello from Parent\")\n",
        "\n",
        "class Child1(Parent):\n",
        "    pass\n",
        "\n",
        "class Child2(Parent):\n",
        "    pass\n",
        "\n",
        "obj1 = Child1()\n",
        "obj2 = Child2()\n",
        "\n",
        "obj1.greet()  # Output: Hello from Parent\n",
        "obj2.greet()  # Output: Hello from Parent"
      ],
      "metadata": {
        "colab": {
          "base_uri": "https://localhost:8080/"
        },
        "id": "598OE_pfZCWK",
        "outputId": "9ad4d9e0-74ba-40d5-cae9-27b8e7581627"
      },
      "execution_count": null,
      "outputs": [
        {
          "output_type": "stream",
          "name": "stdout",
          "text": [
            "Hello from Parent\n",
            "Hello from Parent\n"
          ]
        }
      ]
    },
    {
      "cell_type": "code",
      "source": [
        "5. Hybrid Inheritance\n",
        "\n",
        "Hybrid inheritance is a combination of two or more types of inheritance. For example, combining both multilevel and multiple inheritance in one design."
      ],
      "metadata": {
        "id": "LDymIeEiZG6s"
      },
      "execution_count": null,
      "outputs": []
    },
    {
      "cell_type": "code",
      "source": [
        "class Parent1:\n",
        "    def greet(self):\n",
        "        print(\"Hello from Parent1\")\n",
        "\n",
        "class Parent2:\n",
        "    def greet(self):\n",
        "        print(\"Hello from Parent2\")\n",
        "\n",
        "class Child1(Parent1):\n",
        "    pass\n",
        "\n",
        "class Child2(Parent1, Parent2):\n",
        "    pass\n",
        "\n",
        "obj = Child2()\n",
        "obj.greet()  # Output: Hello from Parent1 (based on MRO)\n"
      ],
      "metadata": {
        "colab": {
          "base_uri": "https://localhost:8080/"
        },
        "id": "i5sxBrwyZQcy",
        "outputId": "092ee432-9d65-45a6-d13b-27e426ca381c"
      },
      "execution_count": null,
      "outputs": [
        {
          "output_type": "stream",
          "name": "stdout",
          "text": [
            "Hello from Parent1\n"
          ]
        }
      ]
    },
    {
      "cell_type": "code",
      "source": [
        "Example of Multiple Inheritance"
      ],
      "metadata": {
        "id": "XS4Wi0bpZUkq"
      },
      "execution_count": null,
      "outputs": []
    },
    {
      "cell_type": "code",
      "source": [
        "class Parent1:\n",
        "    def speak(self):\n",
        "        print(\"Speaking from Parent1\")\n",
        "\n",
        "class Parent2:\n",
        "    def shout(self):\n",
        "        print(\"Shouting from Parent2\")\n",
        "\n",
        "class Child(Parent1, Parent2):\n",
        "    def laugh(self):\n",
        "        print(\"Laughing from Child\")\n",
        "\n",
        "obj = Child()\n",
        "obj.speak()   # Output: Speaking from Parent1\n",
        "obj.shout()   # Output: Shouting from Parent2\n",
        "obj.laugh()   # Output: Laughing from Child"
      ],
      "metadata": {
        "colab": {
          "base_uri": "https://localhost:8080/"
        },
        "id": "WDyc0wlEZXBc",
        "outputId": "77054697-1a84-45b4-f3ee-46d0c2f39307"
      },
      "execution_count": null,
      "outputs": [
        {
          "output_type": "stream",
          "name": "stdout",
          "text": [
            "Speaking from Parent1\n",
            "Shouting from Parent2\n",
            "Laughing from Child\n"
          ]
        }
      ]
    },
    {
      "cell_type": "code",
      "source": [
        "This example shows how a child class can inherit from multiple parent classes and access their methods."
      ],
      "metadata": {
        "id": "lM4Rx22JZd92"
      },
      "execution_count": null,
      "outputs": []
    },
    {
      "cell_type": "markdown",
      "source": [
        "7. What is the Method Resolution Order (MRO) in Python? How can you retrieve it programmatically?"
      ],
      "metadata": {
        "id": "Mte3G4UaZnzT"
      }
    },
    {
      "cell_type": "markdown",
      "source": [
        "Method Resolution Order (MRO) in Python\n",
        "The Method Resolution Order (MRO) in Python defines the order in which methods and attributes are inherited in the presence of multiple inheritance. It ensures that Python follows a specific sequence when searching for a method or attribute in a class hierarchy, including its parent classes."
      ],
      "metadata": {
        "id": "8zgpwC8HZq9r"
      }
    },
    {
      "cell_type": "code",
      "source": [
        "The MRO is determined based on the C3 Linearization Algorithm (also known as C3 superclass linearization), which ensures that:\n",
        "\n",
        "1) A class appears before its parents.\n",
        "\n",
        "2) The order respects the inheritance hierarchy.\n",
        "\n",
        "3) Conflicting orders from multiple parents are resolved in a consistent way.\n"
      ],
      "metadata": {
        "id": "AHFNnZD3ZupC"
      },
      "execution_count": null,
      "outputs": []
    },
    {
      "cell_type": "code",
      "source": [
        "How to Retrieve the MRO Programmatically\n",
        "\n",
        "You can retrieve the MRO of a class using:\n",
        "\n",
        "1) ClassName.mro() method: Returns a list of classes in the order in which they are searched.\n",
        "\n",
        "2) ClassName.__mro__ attribute: A tuple that shows the MRO of the class.\n"
      ],
      "metadata": {
        "id": "t9NOvpwaZ0Hy"
      },
      "execution_count": null,
      "outputs": []
    },
    {
      "cell_type": "code",
      "source": [
        "Here's an example:"
      ],
      "metadata": {
        "id": "bWe7r3yGZ6La"
      },
      "execution_count": null,
      "outputs": []
    },
    {
      "cell_type": "code",
      "source": [
        "class A:\n",
        "    pass\n",
        "\n",
        "class B(A):\n",
        "    pass\n",
        "\n",
        "class C(A):\n",
        "    pass\n",
        "\n",
        "class D(B, C):\n",
        "    pass\n",
        "\n",
        "# Retrieve MRO using mro() method\n",
        "print(D.mro())\n",
        "\n",
        "# Retrieve MRO using __mro__ attribute\n",
        "print(D.__mro__)"
      ],
      "metadata": {
        "id": "ajybc77iZ-iS"
      },
      "execution_count": null,
      "outputs": []
    },
    {
      "cell_type": "code",
      "source": [
        "Output:"
      ],
      "metadata": {
        "id": "jgD9uUg6aB06"
      },
      "execution_count": null,
      "outputs": []
    },
    {
      "cell_type": "code",
      "source": [
        "[<class '__main__.D'>, <class '__main__.B'>, <class '__main__.C'>, <class '__main__.A'>, <class 'object'>]\n",
        "(<class '__main__.D'>, <class '__main__.B'>, <class '__main__.C'>, <class '__main__.A'>, <class 'object'>)"
      ],
      "metadata": {
        "id": "vGvqM-FxaGUT"
      },
      "execution_count": null,
      "outputs": []
    },
    {
      "cell_type": "code",
      "source": [
        "In this example, class D inherits from both B and C, and Python uses MRO to decide the method lookup order."
      ],
      "metadata": {
        "id": "EgFrDOG-aIhj"
      },
      "execution_count": null,
      "outputs": []
    },
    {
      "cell_type": "markdown",
      "source": [
        "8. Create an abstract base class Shape with an abstract method area(). Then create two subclasses Circle and Rectangle that implement the area() method?"
      ],
      "metadata": {
        "id": "SzZroofHaPle"
      }
    },
    {
      "cell_type": "markdown",
      "source": [
        "Here's how you can implement an abstract base class Shape with an abstract method area(), and then create two subclasses Circle and Rectangle that implement the area() method in Python:"
      ],
      "metadata": {
        "id": "4tBmyaqcagDC"
      }
    },
    {
      "cell_type": "code",
      "source": [
        "from abc import ABC, abstractmethod\n",
        "import math\n",
        "\n",
        "# Abstract base class\n",
        "class Shape(ABC):\n",
        "    @abstractmethod\n",
        "    def area(self):\n",
        "        pass\n",
        "\n",
        "# Subclass for Circle\n",
        "class Circle(Shape):\n",
        "    def __init__(self, radius):\n",
        "        self.radius = radius\n",
        "\n",
        "    def area(self):\n",
        "        return math.pi * self.radius ** 2\n",
        "\n",
        "# Subclass for Rectangle\n",
        "class Rectangle(Shape):\n",
        "    def __init__(self, width, height):\n",
        "        self.width = width\n",
        "        self.height = height\n",
        "\n",
        "    def area(self):\n",
        "        return self.width * self.height\n",
        "\n",
        "# Example usage\n",
        "circle = Circle(5)\n",
        "rectangle = Rectangle(4, 6)\n",
        "\n",
        "print(f\"Circle area: {circle.area()}\")\n",
        "print(f\"Rectangle area: {rectangle.area()}\")"
      ],
      "metadata": {
        "id": "weiBYTuHajyc"
      },
      "execution_count": null,
      "outputs": []
    },
    {
      "cell_type": "code",
      "source": [
        "Explanation:\n",
        "\n",
        "1) The Shape class is an abstract base class (ABC) with an abstract method area(), which all subclasses must implement.\n",
        "\n",
        "2) Circle and Rectangle are concrete subclasses that implement the area() method.\n",
        "\n",
        "3) The area() method for the Circle class calculates the area using the formula πr where r is the radius.\n",
        "\n",
        "4) The area() method for the Rectangle class calculates the area using the formula width X Height."
      ],
      "metadata": {
        "id": "pK5wKnrPaq0j"
      },
      "execution_count": null,
      "outputs": []
    },
    {
      "cell_type": "code",
      "source": [
        "In the example usage, you can create instances of Circle and Rectangle, and call their area() methods to get the area of each shape."
      ],
      "metadata": {
        "id": "IHLHdabcbRxW"
      },
      "execution_count": null,
      "outputs": []
    },
    {
      "cell_type": "markdown",
      "source": [
        "9. Demonstrate polymorphism by creating a function that can work with different shape objects to calculate and print their areas?\n"
      ],
      "metadata": {
        "id": "2tHIC1VTbTps"
      }
    },
    {
      "cell_type": "markdown",
      "source": [
        "Polymorphism allows objects of different classes to be treated as objects of a common superclass. In Python, we can use polymorphism by defining a common method in different classes and calling that method on objects of those classes, without needing to know the specific class type."
      ],
      "metadata": {
        "id": "NGDywUUrNbj5"
      }
    },
    {
      "cell_type": "code",
      "source": [
        "Here's an example of polymorphism with different shape objects to calculate and print their areas:"
      ],
      "metadata": {
        "id": "wmS9Cpv1NkCr"
      },
      "execution_count": null,
      "outputs": []
    },
    {
      "cell_type": "code",
      "source": [
        "class Shape:\n",
        "    def area(self):\n",
        "        pass\n",
        "\n",
        "class Rectangle(Shape):\n",
        "    def __init__(self, width, height):\n",
        "        self.width = width\n",
        "        self.height = height\n",
        "\n",
        "    def area(self):\n",
        "        return self.width * self.height\n",
        "\n",
        "class Circle(Shape):\n",
        "    def __init__(self, radius):\n",
        "        self.radius = radius\n",
        "\n",
        "    def area(self):\n",
        "        return 3.1416 * (self.radius ** 2)\n",
        "\n",
        "class Triangle(Shape):\n",
        "    def __init__(self, base, height):\n",
        "        self.base = base\n",
        "        self.height = height\n",
        "\n",
        "    def area(self):\n",
        "        return 0.5 * self.base * self.height\n",
        "\n",
        "# Function to print area of any shape\n",
        "def print_area(shape):\n",
        "    print(f\"The area is: {shape.area()}\")\n",
        "\n",
        "# Create instances of different shapes\n",
        "rect = Rectangle(5, 10)\n",
        "circle = Circle(7)\n",
        "triangle = Triangle(6, 8)\n",
        "\n",
        "# Demonstrating polymorphism\n",
        "print_area(rect)      # Output: The area is: 50\n",
        "print_area(circle)    # Output: The area is: 153.9384\n",
        "print_area(triangle)  # Output: The area is: 24.0"
      ],
      "metadata": {
        "colab": {
          "base_uri": "https://localhost:8080/"
        },
        "id": "FF46DbbdNnSY",
        "outputId": "6a6b8b7c-dba7-415a-cd7e-a0175269782c"
      },
      "execution_count": null,
      "outputs": [
        {
          "output_type": "stream",
          "name": "stdout",
          "text": [
            "The area is: 50\n",
            "The area is: 153.9384\n",
            "The area is: 24.0\n"
          ]
        }
      ]
    },
    {
      "cell_type": "code",
      "source": [
        "Explanation:\n",
        "\n",
        "1) We define a base class Shape with an abstract area method.\n",
        "\n",
        "2) Each subclass (Rectangle, Circle, Triangle) implements the area method according to its specific shape formula.\n",
        "\n",
        "3) The print_area function accepts any shape object and calls its area method, showcasing polymorphism.\n"
      ],
      "metadata": {
        "id": "V4gPqKk-NrLY"
      },
      "execution_count": null,
      "outputs": []
    },
    {
      "cell_type": "code",
      "source": [
        "This allows the function to handle different shapes without needing to know their specific type."
      ],
      "metadata": {
        "id": "40HgeQouNzgY"
      },
      "execution_count": null,
      "outputs": []
    },
    {
      "cell_type": "markdown",
      "source": [
        "10. Implement encapsulation in a BankAccount class with private attributes for balance and account_number. Include methods for deposit, withdrawal, and balance inquiry?"
      ],
      "metadata": {
        "id": "WrXbjQK6OOxI"
      }
    },
    {
      "cell_type": "markdown",
      "source": [
        "Here’s a Python implementation of encapsulation in a BankAccount class. The attributes balance and account_number are private, and methods are provided to interact with them in a controlled manner."
      ],
      "metadata": {
        "id": "K-gDp4r5OWlo"
      }
    },
    {
      "cell_type": "code",
      "source": [
        "Here’s a Python implementation of encapsulation in a BankAccount class.\n",
        "The attributes balance and account_number are private, and methods are provided to interact with them in a controlled manner."
      ],
      "metadata": {
        "id": "KpmolSidOZ3g"
      },
      "execution_count": null,
      "outputs": []
    },
    {
      "cell_type": "code",
      "source": [
        "class BankAccount:\n",
        "    def __init__(self, account_number, initial_balance=0):\n",
        "        self.__account_number = account_number  # Private attribute\n",
        "        self.__balance = initial_balance        # Private attribute\n",
        "\n",
        "    # Method to deposit money into the account\n",
        "    def deposit(self, amount):\n",
        "        if amount > 0:\n",
        "            self.__balance += amount\n",
        "            print(f\"Deposited {amount}. New balance is {self.__balance}\")\n",
        "        else:\n",
        "            print(\"Deposit amount must be positive.\")\n",
        "\n",
        "    # Method to withdraw money from the account\n",
        "    def withdraw(self, amount):\n",
        "        if 0 < amount <= self.__balance:\n",
        "            self.__balance -= amount\n",
        "            print(f\"Withdrew {amount}. New balance is {self.__balance}\")\n",
        "        else:\n",
        "            print(\"Insufficient balance or invalid amount.\")\n",
        "\n",
        "    # Method to check the account balance\n",
        "    def get_balance(self):\n",
        "        return self.__balance\n",
        "\n",
        "    # Method to get the account number (if needed)\n",
        "    def get_account_number(self):\n",
        "        return self.__account_number\n",
        "\n",
        "# Example usage:\n",
        "account = BankAccount(\"123456789\", 1000)\n",
        "account.deposit(500)\n",
        "account.withdraw(300)\n",
        "print(f\"Current balance: {account.get_balance()}\")\n",
        "print(f\"Account number: {account.get_account_number()}\")\n"
      ],
      "metadata": {
        "id": "88Xg-EOrOrEo"
      },
      "execution_count": null,
      "outputs": []
    },
    {
      "cell_type": "code",
      "source": [
        "Key Points:\n",
        "\n",
        "1) The __account_number and __balance are private, meaning they cannot be accessed directly from outside the class.\n",
        "\n",
        "2) deposit, withdraw, and get_balance methods provide controlled access to modify and retrieve the balance.\n",
        "\n",
        "3) The get_account_number method provides a way to access the private account_number."
      ],
      "metadata": {
        "id": "uLQXb9RyP3rQ"
      },
      "execution_count": null,
      "outputs": []
    },
    {
      "cell_type": "markdown",
      "source": [
        "11. 11. Write a class that overrides the __str__ and __add__ magic methods. What will these methods allow you to do?"
      ],
      "metadata": {
        "id": "He-JFvLyQE1w"
      }
    },
    {
      "cell_type": "markdown",
      "source": [
        "In Python, the __str__ and __add__ magic methods (also known as dunder methods) allow you to customize the behavior of printing an object and adding two objects, respectively."
      ],
      "metadata": {
        "id": "9p8cJL_RQ43p"
      }
    },
    {
      "cell_type": "code",
      "source": [
        "Here’s a class that overrides both __str__ and __add__:"
      ],
      "metadata": {
        "id": "EsMPS870Q7dA"
      },
      "execution_count": null,
      "outputs": []
    },
    {
      "cell_type": "code",
      "source": [
        "Code Example:"
      ],
      "metadata": {
        "id": "qJz3vfCrQ9is"
      },
      "execution_count": null,
      "outputs": []
    },
    {
      "cell_type": "code",
      "source": [
        "class CustomClass:\n",
        "    def __init__(self, value):\n",
        "        self.value = value\n",
        "\n",
        "    # Override __str__ to customize how the object is printed\n",
        "    def __str__(self):\n",
        "        return f\"CustomClass with value: {self.value}\"\n",
        "\n",
        "    # Override __add__ to define how two objects of this class are added\n",
        "    def __add__(self, other):\n",
        "        if isinstance(other, CustomClass):\n",
        "            # Return a new instance with the sum of the values\n",
        "            return CustomClass(self.value + other.value)\n",
        "        raise TypeError(\"Unsupported operand type for +: 'CustomClass' and '{}'\".format(type(other).__name__))\n",
        "\n",
        "# Example usage:\n",
        "obj1 = CustomClass(10)\n",
        "obj2 = CustomClass(20)\n",
        "\n",
        "# Printing the objects\n",
        "print(obj1)  # Output: CustomClass with value: 10\n",
        "print(obj2)  # Output: CustomClass with value: 20\n",
        "\n",
        "# Adding two objects\n",
        "obj3 = obj1 + obj2\n",
        "print(obj3)  # Output: CustomClass with value: 30\n"
      ],
      "metadata": {
        "colab": {
          "base_uri": "https://localhost:8080/"
        },
        "id": "VFmzD4bVQ2xA",
        "outputId": "56baeb60-a570-411e-fa6e-f8059f88a78d"
      },
      "execution_count": null,
      "outputs": [
        {
          "output_type": "stream",
          "name": "stdout",
          "text": [
            "CustomClass with value: 10\n",
            "CustomClass with value: 20\n",
            "CustomClass with value: 30\n"
          ]
        }
      ]
    },
    {
      "cell_type": "code",
      "source": [
        "Explanation:"
      ],
      "metadata": {
        "id": "ulqiGjSiRGoY"
      },
      "execution_count": null,
      "outputs": []
    },
    {
      "cell_type": "code",
      "source": [
        "1.__str__ Method:\n",
        "\n",
        "This method defines how an object is converted to a string, which is useful when you use print() on the object or str() on it.\n",
        "\n",
        "In the example, the __str__ method returns a string describing the class and its value."
      ],
      "metadata": {
        "id": "I_5EDsCaRhzg"
      },
      "execution_count": null,
      "outputs": []
    },
    {
      "cell_type": "code",
      "source": [
        "2. __add__ Method:\n",
        "\n",
        "This method is called when the + operator is used between two instances of the class.\n",
        "\n",
        "In the example, it adds the value of two CustomClass objects and returns a new CustomClass object with the sum.\n",
        "\n",
        "If you try to add an instance of CustomClass with a non-CustomClass object, it raises a TypeError.\n"
      ],
      "metadata": {
        "id": "qIi5-Vd2RmsQ"
      },
      "execution_count": null,
      "outputs": []
    },
    {
      "cell_type": "code",
      "source": [
        "What These Methods Allow You to Do:"
      ],
      "metadata": {
        "id": "gVVUXfUTRsD3"
      },
      "execution_count": null,
      "outputs": []
    },
    {
      "cell_type": "code",
      "source": [
        "1) __str__: Customize how the object is represented as a string. This is particularly useful for debugging and logging\n",
        "\n",
        "because you can define a human-readable output for the object.\n",
        "\n",
        "2) __add__: Define how instances of your class should behave when used with the + operator. This allows you to implement meaningful addition for your custom objects (e.g., adding numerical attributes or combining other types of data).\n"
      ],
      "metadata": {
        "id": "30ybv2JIRvZn"
      },
      "execution_count": null,
      "outputs": []
    },
    {
      "cell_type": "markdown",
      "source": [
        "12. Create a decorator that measures and prints the execution time of a function.?"
      ],
      "metadata": {
        "id": "iqpsSQB4SXqn"
      }
    },
    {
      "cell_type": "markdown",
      "source": [
        "Here’s a Python decorator that measures and prints the execution time of a function:"
      ],
      "metadata": {
        "id": "GJ7TB2azSpsA"
      }
    },
    {
      "cell_type": "code",
      "source": [
        "import time\n",
        "\n",
        "def execution_time_decorator(func):\n",
        "    def wrapper(*args, **kwargs):\n",
        "        start_time = time.time()  # Record start time\n",
        "        result = func(*args, **kwargs)  # Execute the function\n",
        "        end_time = time.time()  # Record end time\n",
        "        execution_time = end_time - start_time  # Calculate execution time\n",
        "        print(f\"Execution time of {func.__name__}: {execution_time:.4f} seconds\")\n",
        "        return result\n",
        "    return wrapper"
      ],
      "metadata": {
        "id": "HIJYLJNDSujh"
      },
      "execution_count": null,
      "outputs": []
    },
    {
      "cell_type": "code",
      "source": [
        "Usage:-"
      ],
      "metadata": {
        "id": "Aj8KEanXSx2w"
      },
      "execution_count": null,
      "outputs": []
    },
    {
      "cell_type": "code",
      "source": [
        "@execution_time_decorator\n",
        "def example_function():\n",
        "    time.sleep(2)  # Simulate a time-consuming task\n",
        "\n",
        "example_function()"
      ],
      "metadata": {
        "id": "9NHXK8tCXK6S"
      },
      "execution_count": null,
      "outputs": []
    },
    {
      "cell_type": "code",
      "source": [
        "This will output something like:"
      ],
      "metadata": {
        "id": "6Prdt3nGXMIo"
      },
      "execution_count": null,
      "outputs": []
    },
    {
      "cell_type": "code",
      "source": [
        "Execution time of example_function: 2.0001 seconds"
      ],
      "metadata": {
        "id": "SnConRbRXOP4"
      },
      "execution_count": null,
      "outputs": []
    },
    {
      "cell_type": "code",
      "source": [
        "The decorator wraps the function, records its execution time, and prints the result."
      ],
      "metadata": {
        "id": "2f3J7-J7XRC4"
      },
      "execution_count": null,
      "outputs": []
    },
    {
      "cell_type": "markdown",
      "source": [
        "13. Explain the concept of the Diamond Problem in multiple inheritance. How does Python resolve it?"
      ],
      "metadata": {
        "id": "AofhmAD9XfgR"
      }
    },
    {
      "cell_type": "markdown",
      "source": [
        "The Diamond Problem in Multiple Inheritance\n",
        "\n",
        "The Diamond Problem occurs in object-oriented programming languages that allow multiple inheritance. It arises when a class inherits from two or more classes that have a common ancestor, leading to ambiguity about which version of the ancestor’s methods or properties should be inherited."
      ],
      "metadata": {
        "id": "PImVTIA9XngX"
      }
    },
    {
      "cell_type": "code",
      "source": [
        "Consider the following class structure:"
      ],
      "metadata": {
        "id": "-8EdTiITXm-Z"
      },
      "execution_count": null,
      "outputs": []
    },
    {
      "cell_type": "code",
      "source": [
        "        A\n",
        "       / \\\n",
        "      B   C\n",
        "       \\ /\n",
        "        D\n"
      ],
      "metadata": {
        "id": "slHk0F_IXt3A"
      },
      "execution_count": null,
      "outputs": []
    },
    {
      "cell_type": "code",
      "source": [
        "Here, classes B and C both inherit from class A, and class D inherits from both B and C. The problem arises when class D needs to use a method from class A.\n",
        " There are two possible paths to access this method:\n",
        "\n",
        "D -> B -> A\n",
        "D -> C -> A\n"
      ],
      "metadata": {
        "id": "k3r3McomXxAv"
      },
      "execution_count": null,
      "outputs": []
    },
    {
      "cell_type": "code",
      "source": [
        "Since class D can access A through two different paths, this creates ambiguity about which version of A's method or attribute should be used.\n"
      ],
      "metadata": {
        "id": "bgMchVzFX0np"
      },
      "execution_count": null,
      "outputs": []
    },
    {
      "cell_type": "code",
      "source": [
        "How Python Resolves the Diamond Problem"
      ],
      "metadata": {
        "id": "qTJ_TEoSX3zI"
      },
      "execution_count": null,
      "outputs": []
    },
    {
      "cell_type": "code",
      "source": [
        "Python resolves the Diamond Problem using the C3 Linearization algorithm (also known as the Method Resolution Order, or MRO).\n",
        "\n",
        "The MRO defines the order in which methods are inherited in a consistent and unambiguous manner."
      ],
      "metadata": {
        "id": "bW8U1CKxX5vv"
      },
      "execution_count": null,
      "outputs": []
    },
    {
      "cell_type": "code",
      "source": [
        "In Python, the MRO ensures that a class’s method is called only once, even if it appears multiple times in the inheritance hierarchy.\n",
        "\n",
        "The MRO is calculated in such a way that the order respects the hierarchy and avoids redundant method calls.\n",
        "\n",
        "Here’s how Python's MRO works:\n",
        "\n",
        "1) The MRO starts from the child class and proceeds up through the base classes, left to right.\n",
        "\n",
        "2) It ensures that a class is only considered after its parent classes have been considered.\n",
        "\n",
        "3) You can view the MRO of a class using the __mro__ attribute or the mro() method.\n"
      ],
      "metadata": {
        "id": "aalH0Q8mX86v"
      },
      "execution_count": null,
      "outputs": []
    },
    {
      "cell_type": "code",
      "source": [
        "Example:"
      ],
      "metadata": {
        "id": "4gN7p1t0YFSs"
      },
      "execution_count": null,
      "outputs": []
    },
    {
      "cell_type": "code",
      "source": [
        "class A:\n",
        "    def who_am_i(self):\n",
        "        print(\"I am A\")\n",
        "\n",
        "class B(A):\n",
        "    def who_am_i(self):\n",
        "        print(\"I am B\")\n",
        "\n",
        "class C(A):\n",
        "    def who_am_i(self):\n",
        "        print(\"I am C\")\n",
        "\n",
        "class D(B, C):\n",
        "    pass\n",
        "\n",
        "d = D()\n",
        "d.who_am_i()  # Outputs: \"I am B\"\n",
        "print(D.__mro__)  # Outputs the MRO: (D, B, C, A, object)\n"
      ],
      "metadata": {
        "id": "Cyol55IFYHLv"
      },
      "execution_count": null,
      "outputs": []
    },
    {
      "cell_type": "code",
      "source": [
        "In this example, Python resolves the call to who_am_i in class D by following the MRO, which is (D, B, C, A, object).\n",
        "\n",
        " This ensures that B’s method is called before C’s, and the method from A is considered only after B and C."
      ],
      "metadata": {
        "id": "PLP-WSOiYJYA"
      },
      "execution_count": null,
      "outputs": []
    },
    {
      "cell_type": "markdown",
      "source": [
        "14. Write a class method that keeps track of the number of instances created from a class?"
      ],
      "metadata": {
        "id": "Z6B1zuALYQw3"
      }
    },
    {
      "cell_type": "markdown",
      "source": [
        "To keep track of the number of instances created from a class, we can use a class attribute that increments each time the __init__ method is called. We'll also add a class method to return the count of instances. Here’s an example implementation:"
      ],
      "metadata": {
        "id": "oOqgxB2WYT8X"
      }
    },
    {
      "cell_type": "code",
      "source": [
        "class MyClass:\n",
        "    # Class attribute to keep track of the number of instances\n",
        "    instance_count = 0\n",
        "\n",
        "    def __init__(self):\n",
        "        # Increment the instance count whenever a new object is created\n",
        "        MyClass.instance_count += 1\n",
        "\n",
        "    # Class method to get the number of instances created\n",
        "    @classmethod\n",
        "    def get_instance_count(cls):\n",
        "        return cls.instance_count\n",
        "\n",
        "# Example usage:\n",
        "obj1 = MyClass()\n",
        "obj2 = MyClass()\n",
        "obj3 = MyClass()\n",
        "\n",
        "print(MyClass.get_instance_count())  # Output: 3"
      ],
      "metadata": {
        "colab": {
          "base_uri": "https://localhost:8080/"
        },
        "id": "HS6oB9QyYf3w",
        "outputId": "ac1fd08b-b8dc-4a1a-b258-57cd2a59688b"
      },
      "execution_count": 3,
      "outputs": [
        {
          "output_type": "stream",
          "name": "stdout",
          "text": [
            "3\n"
          ]
        }
      ]
    },
    {
      "cell_type": "code",
      "source": [
        "Explanation:\n",
        "\n",
        "1) instance_count is a class attribute that starts at 0.\n",
        "\n",
        "2) The __init__ method increments instance_count each time a new instance of the class is created.\n",
        "\n",
        "3) he @classmethod decorator is used for get_instance_count, which allows it to access and return the class attribute instance_count.\n"
      ],
      "metadata": {
        "id": "DzJyR95fYiT3"
      },
      "execution_count": null,
      "outputs": []
    },
    {
      "cell_type": "markdown",
      "source": [
        "15. Implement a static method in a class that checks if a given year is a leap year?"
      ],
      "metadata": {
        "id": "fWWa6RHJYrIX"
      }
    },
    {
      "cell_type": "code",
      "source": [
        "Here's an example of how you can implement a static method to check if a given year is a leap year in Python:"
      ],
      "metadata": {
        "id": "Tm1_byCTYu1q"
      },
      "execution_count": null,
      "outputs": []
    },
    {
      "cell_type": "code",
      "source": [
        "class YearChecker:\n",
        "    @staticmethod\n",
        "    def is_leap_year(year):\n",
        "        # A year is a leap year if:\n",
        "        # 1. It is divisible by 4, and\n",
        "        # 2. It is not divisible by 100, unless it is also divisible by 400\n",
        "        if (year % 4 == 0 and year % 100 != 0) or (year % 400 == 0):\n",
        "            return True\n",
        "        else:\n",
        "            return False\n",
        "\n",
        "# Example usage:\n",
        "print(YearChecker.is_leap_year(2024))  # True\n",
        "print(YearChecker.is_leap_year(1900))  # False\n",
        "print(YearChecker.is_leap_year(2000))  # True\n"
      ],
      "metadata": {
        "id": "cx6j1L4gYwjP"
      },
      "execution_count": null,
      "outputs": []
    },
    {
      "cell_type": "code",
      "source": [
        "Explanation:\n",
        "1) A year is a leap year if it is divisible by 4, but not divisible by 100 unless it is also divisible by 400.\n",
        "\n",
        "2) The is_leap_year method is static, which means it belongs to the class itself and not to an instance of the class.\n",
        "   Hence, you can call it directly using the class name."
      ],
      "metadata": {
        "id": "kjfqm08BYyvb"
      },
      "execution_count": null,
      "outputs": []
    },
    {
      "cell_type": "markdown",
      "source": [],
      "metadata": {
        "id": "XSkK1ph6uPb8"
      }
    }
  ]
}