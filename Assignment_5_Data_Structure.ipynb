{
  "nbformat": 4,
  "nbformat_minor": 0,
  "metadata": {
    "colab": {
      "provenance": []
    },
    "kernelspec": {
      "name": "python3",
      "display_name": "Python 3"
    },
    "language_info": {
      "name": "python"
    }
  },
  "cells": [
    {
      "cell_type": "markdown",
      "source": [
        "1. \" Write a code to reverse a string?"
      ],
      "metadata": {
        "id": "ZvuG7ITdBGh3"
      }
    },
    {
      "cell_type": "markdown",
      "source": [
        "Here's a simple Python code to reverse a string:"
      ],
      "metadata": {
        "id": "UwpDUvVbBQ0i"
      }
    },
    {
      "cell_type": "code",
      "source": [
        "def reverse_string(s):\n",
        "    return s[::-1]\n",
        "\n",
        "# Example usage\n",
        "input_string = \"Hello, World!\"\n",
        "reversed_string = reverse_string(input_string)\n",
        "print(\"Reversed String:\", reversed_string)"
      ],
      "metadata": {
        "id": "5oZrqb4OBTlv"
      },
      "execution_count": null,
      "outputs": []
    },
    {
      "cell_type": "code",
      "source": [
        "In this code, the slicing [::-1] is used to reverse the string."
      ],
      "metadata": {
        "id": "FrFdS5U7BWst"
      },
      "execution_count": null,
      "outputs": []
    },
    {
      "cell_type": "markdown",
      "source": [
        "2.  Write a code to count the number of vowels in a string ?"
      ],
      "metadata": {
        "id": "69At5222BalX"
      }
    },
    {
      "cell_type": "markdown",
      "source": [
        "Here is a Python code that counts the number of vowels in a string:"
      ],
      "metadata": {
        "id": "dhF5WQIFBird"
      }
    },
    {
      "cell_type": "code",
      "source": [
        "def count_vowels(input_string):\n",
        "    # Define a set of vowels\n",
        "    vowels = set(\"aeiouAEIOU\")\n",
        "\n",
        "    # Initialize the vowel count\n",
        "    count = 0\n",
        "\n",
        "    # Loop through each character in the string\n",
        "    for char in input_string:\n",
        "        if char in vowels:\n",
        "            count += 1\n",
        "\n",
        "    return count\n",
        "\n",
        "# Test the function\n",
        "input_string = \"Hello, how many vowels are there?\"\n",
        "print(\"Number of vowels:\", count_vowels(input_string))"
      ],
      "metadata": {
        "id": "n69cr5tOBmmf"
      },
      "execution_count": null,
      "outputs": []
    },
    {
      "cell_type": "code",
      "source": [
        "You can replace input_string with any string to check the vowel count."
      ],
      "metadata": {
        "id": "R9nZcSQGBoid"
      },
      "execution_count": null,
      "outputs": []
    },
    {
      "cell_type": "markdown",
      "source": [
        "3. Write a code to check if a given string is a palindrome or not ?\n",
        "\n"
      ],
      "metadata": {
        "id": "Rr1rhxoBB1P9"
      }
    },
    {
      "cell_type": "markdown",
      "source": [
        "Here is a Python code to check if a given string is a palindrome:"
      ],
      "metadata": {
        "id": "SEE7xPYeB9Je"
      }
    },
    {
      "cell_type": "code",
      "source": [
        "def is_palindrome(string):\n",
        "    # Remove spaces and convert the string to lowercase\n",
        "    cleaned_string = ''.join(string.split()).lower()\n",
        "\n",
        "    # Check if the cleaned string is equal to its reverse\n",
        "    return cleaned_string == cleaned_string[::-1]\n",
        "\n",
        "# Example usage\n",
        "input_string = input(\"Enter a string: \")\n",
        "if is_palindrome(input_string):\n",
        "    print(f'\"{input_string}\" is a palindrome.')\n",
        "else:\n",
        "    print(f'\"{input_string}\" is not a palindrome.')"
      ],
      "metadata": {
        "id": "cbx1UN7kCAL_"
      },
      "execution_count": null,
      "outputs": []
    },
    {
      "cell_type": "code",
      "source": [
        "Explanation:\n",
        "\n",
        "1) The split() method removes any spaces, and ''.join() combines the list of words into a single string.\n",
        "\n",
        "2) The lower() method is used to ignore case sensitivity.\n",
        "\n",
        "3) The string is then checked by comparing it with its reverse ([::-1])."
      ],
      "metadata": {
        "id": "VfPQMJiZCCKH"
      },
      "execution_count": null,
      "outputs": []
    },
    {
      "cell_type": "markdown",
      "source": [
        "4.  Write a code to check if two given strings are anagrams of each other ?\n",
        "\n"
      ],
      "metadata": {
        "id": "7-cCQnN-CLze"
      }
    },
    {
      "cell_type": "markdown",
      "source": [
        "To check if two given strings are anagrams of each other, you can compare the sorted characters of both strings. If both sorted strings are identical, then the two strings are anagrams. Here's a Python function that performs this check:"
      ],
      "metadata": {
        "id": "OsxDjQeQCca1"
      }
    },
    {
      "cell_type": "code",
      "source": [
        "def are_anagrams(str1, str2):\n",
        "    # Remove spaces and convert strings to lowercase for case-insensitive comparison\n",
        "    str1 = str1.replace(\" \", \"\").lower()\n",
        "    str2 = str2.replace(\" \", \"\").lower()\n",
        "\n",
        "    # Compare sorted versions of both strings\n",
        "    return sorted(str1) == sorted(str2)\n",
        "\n",
        "# Example usage:\n",
        "string1 = \"listen\"\n",
        "string2 = \"silent\"\n",
        "\n",
        "if are_anagrams(string1, string2):\n",
        "    print(f'\"{string1}\" and \"{string2}\" are anagrams.')\n",
        "else:\n",
        "    print(f'\"{string1}\" and \"{string2}\" are not anagrams.')"
      ],
      "metadata": {
        "id": "nIguCgFQCkqX"
      },
      "execution_count": null,
      "outputs": []
    },
    {
      "cell_type": "code",
      "source": [
        "Explanation:\n",
        "\n",
        "1) The replace(\" \", \"\") method removes any spaces in the strings to handle multi-word inputs.\n",
        "\n",
        "2) The lower() method ensures the comparison is case-insensitive.\n",
        "\n",
        "3) The sorted() function arranges the characters in both strings in alphabetical order, making it easy to compare."
      ],
      "metadata": {
        "id": "fnBgvN3SCndW"
      },
      "execution_count": null,
      "outputs": []
    },
    {
      "cell_type": "code",
      "source": [
        "If the sorted strings are equal, they are anagrams."
      ],
      "metadata": {
        "id": "oLxtzCJLCwFu"
      },
      "execution_count": null,
      "outputs": []
    },
    {
      "cell_type": "markdown",
      "source": [
        "5. Write a code to find all occurrences of a given substring within another string ?\n"
      ],
      "metadata": {
        "id": "-yfnNUTWFTS9"
      }
    },
    {
      "cell_type": "code",
      "source": [
        "Here’s a Python code that finds all occurrences of a given substring within another string:"
      ],
      "metadata": {
        "id": "BLJsGIYqFS_m"
      },
      "execution_count": null,
      "outputs": []
    },
    {
      "cell_type": "code",
      "source": [
        "def find_all_occurrences(string, substring):\n",
        "    occurrences = []\n",
        "    start = 0\n",
        "\n",
        "    while True:\n",
        "        start = string.find(substring, start)\n",
        "        if start == -1:\n",
        "            break\n",
        "        occurrences.append(start)\n",
        "        start += len(substring)  # Move start index to avoid overlapping matches\n",
        "\n",
        "    return occurrences\n",
        "\n",
        "# Example usage\n",
        "string = \"This is a test string, and this test is a simple test.\"\n",
        "substring = \"test\"\n",
        "result = find_all_occurrences(string, substring)\n",
        "print(f\"Occurrences of '{substring}': {result}\")"
      ],
      "metadata": {
        "id": "4Gqu4YSjFkf8"
      },
      "execution_count": null,
      "outputs": []
    },
    {
      "cell_type": "code",
      "source": [
        "Explanation:\n",
        "\n",
        "1) string.find(substring, start) returns the first occurrence of substring in string, starting from the index start.\n",
        "\n",
        "2_) The loop continues until there are no more matches (find() returns -1).\n",
        "\n",
        "3) start += len(substring) ensures that overlapping substrings are not counted multiple times."
      ],
      "metadata": {
        "id": "liqqhOKKFnl1"
      },
      "execution_count": null,
      "outputs": []
    },
    {
      "cell_type": "markdown",
      "source": [
        "6. Write a code to perform basic string compression using the counts of repeated characters?\n"
      ],
      "metadata": {
        "id": "sKUUk5hFFvgE"
      }
    },
    {
      "cell_type": "markdown",
      "source": [
        "Here’s a Python code that performs basic string compression using counts of repeated characters. The compression replaces consecutive repeated characters with the character followed by the count of repetitions. If the compressed string is not smaller than the original string, it returns the original string."
      ],
      "metadata": {
        "id": "4Kog8BUpF661"
      }
    },
    {
      "cell_type": "code",
      "source": [
        "def compress_string(s):\n",
        "    if not s:\n",
        "        return \"\"\n",
        "\n",
        "    compressed = []\n",
        "    count = 1\n",
        "\n",
        "    # Iterate through the string\n",
        "    for i in range(1, len(s)):\n",
        "        if s[i] == s[i - 1]:\n",
        "            count += 1\n",
        "        else:\n",
        "            compressed.append(s[i - 1] + str(count))\n",
        "            count = 1\n",
        "\n",
        "    # Append the last character and its count\n",
        "    compressed.append(s[-1] + str(count))\n",
        "\n",
        "    # Join the compressed parts\n",
        "    compressed_str = ''.join(compressed)\n",
        "\n",
        "    # Return the original string if compression doesn't reduce size\n",
        "    return compressed_str if len(compressed_str) < len(s) else s\n",
        "\n",
        "# Example usage:\n",
        "input_string = \"aabcccccaaa\"\n",
        "compressed_output = compress_string(input_string)\n",
        "print(compressed_output)"
      ],
      "metadata": {
        "id": "7MPuq5l5GCVE"
      },
      "execution_count": null,
      "outputs": []
    },
    {
      "cell_type": "code",
      "source": [
        "Explanation:\n",
        "\n",
        "1) The function iterates through the input string and counts consecutive repeating characters.\n",
        "\n",
        "2) Each unique character and its count are appended to the compressed list.\n",
        "\n",
        "3) After processing, the compressed list is joined into a string.\n",
        "\n",
        "4) If the compressed string is longer than the original, it returns the original string."
      ],
      "metadata": {
        "id": "VpMyRaEDGERM"
      },
      "execution_count": null,
      "outputs": []
    },
    {
      "cell_type": "code",
      "source": [
        "For example, for input \"aabcccccaaa\", the output will be \"a2b1c5a3\". If compression does not reduce the size, it will return the original string.\n"
      ],
      "metadata": {
        "id": "pIOwfkmaGMr9"
      },
      "execution_count": null,
      "outputs": []
    },
    {
      "cell_type": "markdown",
      "source": [
        "7  Write a code to determine if a string has all unique characters?"
      ],
      "metadata": {
        "id": "WGAhcNxyGP-F"
      }
    },
    {
      "cell_type": "markdown",
      "source": [
        "Here is a Python code that determines if a string has all unique characters:"
      ],
      "metadata": {
        "id": "kHTVFD7bGZpN"
      }
    },
    {
      "cell_type": "code",
      "source": [
        "def has_unique_characters(input_string):\n",
        "    # Create a set to store unique characters\n",
        "    char_set = set()\n",
        "\n",
        "    # Loop through each character in the string\n",
        "    for char in input_string:\n",
        "        # If the character is already in the set, it's not unique\n",
        "        if char in char_set:\n",
        "            return False\n",
        "        # Otherwise, add the character to the set\n",
        "        char_set.add(char)\n",
        "\n",
        "    # If no duplicates were found, the string has all unique characters\n",
        "    return True\n",
        "\n",
        "# Test the function\n",
        "test_string = \"abcdef\"\n",
        "print(has_unique_characters(test_string))  # Output: True\n",
        "\n",
        "test_string2 = \"hello\"\n",
        "print(has_unique_characters(test_string2))  # Output: False"
      ],
      "metadata": {
        "colab": {
          "base_uri": "https://localhost:8080/"
        },
        "id": "koxFAscxGWwt",
        "outputId": "b53dc467-7bce-4983-fe19-94e82463464d"
      },
      "execution_count": null,
      "outputs": [
        {
          "output_type": "stream",
          "name": "stdout",
          "text": [
            "True\n",
            "False\n"
          ]
        }
      ]
    },
    {
      "cell_type": "code",
      "source": [
        "Explanation:\n",
        "\n",
        "1) The function uses a set to track the characters that have been seen.\n",
        "\n",
        "2) If a character repeats, it returns False, otherwise it returns True.\n"
      ],
      "metadata": {
        "id": "l9ymUirnGepe"
      },
      "execution_count": null,
      "outputs": []
    },
    {
      "cell_type": "markdown",
      "source": [
        "8. Write a code to convert a given string to uppercase or lowercase?"
      ],
      "metadata": {
        "id": "ktsuYno4Gq_s"
      }
    },
    {
      "cell_type": "markdown",
      "source": [
        "Here is a Python code to convert a given string to uppercase or lowercase based on user input:"
      ],
      "metadata": {
        "id": "95WbpyaHGxXN"
      }
    },
    {
      "cell_type": "code",
      "source": [
        "def convert_case(string, case_type):\n",
        "    if case_type == \"uppercase\":\n",
        "        return string.upper()\n",
        "    elif case_type == \"lowercase\":\n",
        "        return string.lower()\n",
        "    else:\n",
        "        return \"Invalid case type. Choose 'uppercase' or 'lowercase'.\"\n",
        "\n",
        "# Example usage\n",
        "input_string = input(\"Enter a string: \")\n",
        "case_type = input(\"Enter 'uppercase' or 'lowercase': \")\n",
        "\n",
        "result = convert_case(input_string, case_type)\n",
        "print(\"Converted string:\", result)"
      ],
      "metadata": {
        "id": "7jWSm2VlG4fc"
      },
      "execution_count": null,
      "outputs": []
    },
    {
      "cell_type": "code",
      "source": [
        "This code takes a string from the user, and depending on whether they choose \"uppercase\" or \"lowercase,\" it converts the string accordingly.\n"
      ],
      "metadata": {
        "id": "61-aGADKG6KV"
      },
      "execution_count": null,
      "outputs": []
    },
    {
      "cell_type": "markdown",
      "source": [
        "9. Write a code to count the number of words in a string?\n"
      ],
      "metadata": {
        "id": "syiXagRxG_cW"
      }
    },
    {
      "cell_type": "markdown",
      "source": [
        "Here's a Python code snippet that counts the number of words in a string:"
      ],
      "metadata": {
        "id": "XZuDU6xVHEaN"
      }
    },
    {
      "cell_type": "code",
      "source": [
        "def count_words(string):\n",
        "    # Split the string into words using spaces as delimiters\n",
        "    words = string.split()\n",
        "    # Return the number of words\n",
        "    return len(words)\n",
        "\n",
        "# Example usage\n",
        "string = \"This is an example string to count words.\"\n",
        "word_count = count_words(string)\n",
        "print(\"Number of words:\", word_count)"
      ],
      "metadata": {
        "id": "1RgGIponHJhd"
      },
      "execution_count": null,
      "outputs": []
    },
    {
      "cell_type": "code",
      "source": [
        "In this code:\n",
        "\n",
        "1) The split() function divides the string into a list of words.\n",
        "\n",
        "2) len() then counts the number of words in the list.\n",
        "\n",
        "3) Let me know if you'd like more explanations or enhancements!"
      ],
      "metadata": {
        "id": "ypjN2ipgHLIl"
      },
      "execution_count": null,
      "outputs": []
    },
    {
      "cell_type": "markdown",
      "source": [
        "10.  Write a code to concatenate two strings without using the + operator?\n"
      ],
      "metadata": {
        "id": "qKWki-2wHUjU"
      }
    },
    {
      "cell_type": "markdown",
      "source": [
        "You can concatenate two strings in Python without using the + operator by utilizing other methods such as the join() method or string formatting. Here are a few different approaches:"
      ],
      "metadata": {
        "id": "XhmsAHijHjul"
      }
    },
    {
      "cell_type": "code",
      "source": [
        "1. 1. Using str.join()"
      ],
      "metadata": {
        "id": "J7hDKXOOG_F9"
      },
      "execution_count": null,
      "outputs": []
    },
    {
      "cell_type": "code",
      "source": [
        "def concatenate_strings(str1, str2):\n",
        "    return ''.join([str1, str2])\n",
        "\n",
        "# Example usage\n",
        "result = concatenate_strings(\"Hello, \", \"world!\")\n",
        "print(result)  # Output: Hello, world!\n"
      ],
      "metadata": {
        "colab": {
          "base_uri": "https://localhost:8080/"
        },
        "id": "ywHFeFqDHsmN",
        "outputId": "6d32770e-a441-4371-af73-aed9a74b5de0"
      },
      "execution_count": null,
      "outputs": [
        {
          "output_type": "stream",
          "name": "stdout",
          "text": [
            "Hello, world!\n"
          ]
        }
      ]
    },
    {
      "cell_type": "code",
      "source": [
        "2. Using String Formatting"
      ],
      "metadata": {
        "id": "hwWcbUwKHunc"
      },
      "execution_count": null,
      "outputs": []
    },
    {
      "cell_type": "code",
      "source": [
        "def concatenate_strings(str1, str2):\n",
        "    return \"{}{}\".format(str1, str2)\n",
        "\n",
        "# Example usage\n",
        "result = concatenate_strings(\"Hello, \", \"world!\")\n",
        "print(result)  # Output: Hello, world!\n"
      ],
      "metadata": {
        "id": "AYZDmhDzHyxs"
      },
      "execution_count": null,
      "outputs": []
    },
    {
      "cell_type": "code",
      "source": [
        "3. Using f-strings (Python 3.6+)"
      ],
      "metadata": {
        "id": "2FDmMHL0H6lt"
      },
      "execution_count": null,
      "outputs": []
    },
    {
      "cell_type": "code",
      "source": [
        "def concatenate_strings(str1, str2):\n",
        "    return f\"{str1}{str2}\"\n",
        "\n",
        "# Example usage\n",
        "result = concatenate_strings(\"Hello, \", \"world!\")\n",
        "print(result)  # Output: Hello, world!"
      ],
      "metadata": {
        "id": "8TeZuAfMH8pV"
      },
      "execution_count": null,
      "outputs": []
    },
    {
      "cell_type": "code",
      "source": [
        "4. Using a List and str.join()"
      ],
      "metadata": {
        "id": "q0xvmXQoH_QF"
      },
      "execution_count": null,
      "outputs": []
    },
    {
      "cell_type": "code",
      "source": [
        "def concatenate_strings(str1, str2):\n",
        "    parts = [str1, str2]\n",
        "    return ''.join(parts)\n",
        "\n",
        "# Example usage\n",
        "result = concatenate_strings(\"Hello, \", \"world!\")\n",
        "print(result)  # Output: Hello, world!"
      ],
      "metadata": {
        "id": "lNwffoByIBAN"
      },
      "execution_count": null,
      "outputs": []
    },
    {
      "cell_type": "code",
      "source": [
        "You can choose any of these methods depending on your preference or Python version!"
      ],
      "metadata": {
        "id": "eIsl_x4KICnl"
      },
      "execution_count": null,
      "outputs": []
    },
    {
      "cell_type": "markdown",
      "source": [
        "11. You can choose any of these methods depending on your preference or Python version?\n",
        "\n"
      ],
      "metadata": {
        "id": "k9xdfbzfIK3c"
      }
    },
    {
      "cell_type": "markdown",
      "source": [
        "1. Data Manipulation"
      ],
      "metadata": {
        "id": "D30ngJtFIQr8"
      }
    },
    {
      "cell_type": "code",
      "source": [
        "Pandas:\n",
        "\n",
        "1) A powerful library for data manipulation and analysis.\n",
        "\n",
        "2) You can easily handle data in DataFrame format, making operations like filtering, grouping, and aggregating straightforward."
      ],
      "metadata": {
        "id": "k1u6KOpTIiGc"
      },
      "execution_count": null,
      "outputs": []
    },
    {
      "cell_type": "code",
      "source": [
        "import pandas as pd\n",
        "\n",
        "# Creating a DataFrame\n",
        "data = {'Name': ['Alice', 'Bob', 'Charlie'], 'Age': [25, 30, 35]}\n",
        "df = pd.DataFrame(data)\n",
        "\n",
        "# Filtering data\n",
        "filtered_df = df[df['Age'] > 28]"
      ],
      "metadata": {
        "id": "4F2Yb5PdImjE"
      },
      "execution_count": null,
      "outputs": []
    },
    {
      "cell_type": "code",
      "source": [
        "2. NumPy:"
      ],
      "metadata": {
        "id": "F0Z8LsrMI2K8"
      },
      "execution_count": null,
      "outputs": []
    },
    {
      "cell_type": "code",
      "source": [
        "1) Useful for numerical data manipulation.\n",
        "\n",
        "2) Offers array objects that are efficient for mathematical operations."
      ],
      "metadata": {
        "id": "GLUDqvl7I7Uj"
      },
      "execution_count": null,
      "outputs": []
    },
    {
      "cell_type": "code",
      "source": [
        "import numpy as np\n",
        "\n",
        "# Creating a NumPy array\n",
        "array = np.array([1, 2, 3, 4, 5])\n",
        "\n",
        "# Performing operations\n",
        "squared_array = np.square(array)"
      ],
      "metadata": {
        "id": "VkS4Q0p6JGYr"
      },
      "execution_count": null,
      "outputs": []
    },
    {
      "cell_type": "code",
      "source": [
        "File Handling"
      ],
      "metadata": {
        "id": "pTiuWuVFKKcn"
      },
      "execution_count": null,
      "outputs": []
    },
    {
      "cell_type": "code",
      "source": [
        "Reading/Writing Text Files:\n",
        "\n",
        "Use built-in functions like open(), read(), write(), etc."
      ],
      "metadata": {
        "id": "5PPnf84mKQLF"
      },
      "execution_count": null,
      "outputs": []
    },
    {
      "cell_type": "code",
      "source": [
        "# Writing to a text file\n",
        "with open('example.txt', 'w') as file:\n",
        "    file.write('Hello, World!')\n",
        "\n",
        "# Reading from a text file\n",
        "with open('example.txt', 'r') as file:\n",
        "    content = file.read()"
      ],
      "metadata": {
        "id": "kHT4zQbGQZAN"
      },
      "execution_count": null,
      "outputs": []
    },
    {
      "cell_type": "code",
      "source": [
        "2. CSV Files:\n",
        "\n",
        "You can use pandas to read and write CSV files easily."
      ],
      "metadata": {
        "id": "GOFre5tPQbyT"
      },
      "execution_count": null,
      "outputs": []
    },
    {
      "cell_type": "code",
      "source": [
        "# Writing a DataFrame to CSV\n",
        "df.to_csv('data.csv', index=False)\n",
        "\n",
        "# Reading a CSV file into a DataFrame\n",
        "df_from_csv = pd.read_csv('data.csv')"
      ],
      "metadata": {
        "id": "LTNJv0UVQekj"
      },
      "execution_count": null,
      "outputs": []
    },
    {
      "cell_type": "code",
      "source": [
        "3. JSON Files:\n",
        "\n",
        "You can use the json module to handle JSON data."
      ],
      "metadata": {
        "id": "Pc9QgS8NQguj"
      },
      "execution_count": null,
      "outputs": []
    },
    {
      "cell_type": "code",
      "source": [
        "import json\n",
        "\n",
        "# Writing to a JSON file\n",
        "data = {'name': 'Alice', 'age': 25}\n",
        "with open('data.json', 'w') as json_file:\n",
        "    json.dump(data, json_file)\n",
        "\n",
        "# Reading from a JSON file\n",
        "with open('data.json', 'r') as json_file:\n",
        "    data = json.load(json_file)"
      ],
      "metadata": {
        "id": "CLVg61DtQjoK"
      },
      "execution_count": null,
      "outputs": []
    },
    {
      "cell_type": "code",
      "source": [
        "Choosing a Method\n",
        "\n",
        "1) If you need to perform complex data analysis, Pandas is the way to go.\n",
        "\n",
        "2) For simple numerical tasks, NumPy might be more efficient.\n",
        "\n",
        "3) For file handling, the method depends on the file type you are dealing with (text, CSV, JSON)."
      ],
      "metadata": {
        "id": "tQVl-KQ-Ql_Q"
      },
      "execution_count": null,
      "outputs": []
    },
    {
      "cell_type": "code",
      "source": [
        "Let me know if you’d like to explore any specific area further!"
      ],
      "metadata": {
        "id": "_Vx745KWQtx6"
      },
      "execution_count": null,
      "outputs": []
    },
    {
      "cell_type": "markdown",
      "source": [
        "11. Write a code to remove all occurrences of a specific element from a list?\n"
      ],
      "metadata": {
        "id": "556nVTqMQwbK"
      }
    },
    {
      "cell_type": "markdown",
      "source": [
        "You can remove all occurrences of a specific element from a list in Python using a list comprehension. Here’s an example code snippet that demonstrates this:"
      ],
      "metadata": {
        "id": "Tddwzqv3Q2J2"
      }
    },
    {
      "cell_type": "code",
      "source": [
        "def remove_occurrences(lst, element):\n",
        "    return [x for x in lst if x != element]\n",
        "\n",
        "# Example usage:\n",
        "my_list = [1, 2, 3, 4, 2, 5, 2]\n",
        "element_to_remove = 2\n",
        "new_list = remove_occurrences(my_list, element_to_remove)\n",
        "\n",
        "print(new_list)  # Output: [1, 3, 4, 5]"
      ],
      "metadata": {
        "id": "swJUU2IVQ7vx"
      },
      "execution_count": null,
      "outputs": []
    },
    {
      "cell_type": "code",
      "source": [
        "Explanation:\n",
        "\n",
        "1) The remove_occurrences function takes two arguments: the list lst and the element to be removed.\n",
        "\n",
        "2) It uses a list comprehension to create a new list that includes only the elements that are not equal to the specified element.\n",
        "\n",
        "3) The original list remains unchanged. If you want to modify the original list in place, you can use the list.remove() method in a loop"
      ],
      "metadata": {
        "id": "U49YIIxDQ-PL"
      },
      "execution_count": null,
      "outputs": []
    },
    {
      "cell_type": "code",
      "source": [
        "def remove_occurrences_in_place(lst, element):\n",
        "    while element in lst:\n",
        "        lst.remove(element)\n",
        "\n",
        "# Example usage:\n",
        "my_list = [1, 2, 3, 4, 2, 5, 2]\n",
        "element_to_remove = 2\n",
        "remove_occurrences_in_place(my_list, element_to_remove)\n",
        "\n",
        "print(my_list)  # Output: [1, 3, 4, 5]"
      ],
      "metadata": {
        "id": "bvC83W5DREXs"
      },
      "execution_count": null,
      "outputs": []
    },
    {
      "cell_type": "code",
      "source": [
        "In this version, the remove_occurrences_in_place function modifies the original list by repeatedly calling remove() until the specified element is no longer found.\n",
        "\n"
      ],
      "metadata": {
        "id": "GRpJHmmzRGxE"
      },
      "execution_count": null,
      "outputs": []
    },
    {
      "cell_type": "markdown",
      "source": [
        "12. Implement a code to find the second largest number in a given list of integers?\n"
      ],
      "metadata": {
        "id": "x-txthgERKYD"
      }
    },
    {
      "cell_type": "markdown",
      "source": [
        "Here’s a simple Python code snippet to find the second largest number in a given list of integers:"
      ],
      "metadata": {
        "id": "g6OYvQqGRR9s"
      }
    },
    {
      "cell_type": "code",
      "source": [
        "def second_largest(numbers):\n",
        "    if len(numbers) < 2:\n",
        "        return None  # Not enough elements for a second largest\n",
        "\n",
        "    first, second = float('-inf'), float('-inf')\n",
        "\n",
        "    for number in numbers:\n",
        "        if number > first:\n",
        "            second = first\n",
        "            first = number\n",
        "        elif first > number > second:\n",
        "            second = number\n",
        "\n",
        "    return second if second != float('-inf') else None\n",
        "\n",
        "# Example usage:\n",
        "numbers = [3, 1, 4, 4, 5, 2]\n",
        "result = second_largest(numbers)\n",
        "print(f\"The second largest number is: {result}\")"
      ],
      "metadata": {
        "id": "GN767A7TRUWa"
      },
      "execution_count": null,
      "outputs": []
    },
    {
      "cell_type": "code",
      "source": [
        "Explanation:\n",
        "\n",
        "1) Initialization: We start by checking if the list has at least two elements. If not, we return None.\n",
        "\n",
        "2) Tracking Two Largest Numbers: We initialize two variables, first and second, to negative infinity. As we iterate through the list:\n",
        "\n",
        "3) If we find a number greater than first, we update second to be first and then update first with the new largest number.\n",
        "\n",
        "4) If the number is less than first but greater than second, we update second.\n",
        "\n",
        "5) Return the Result: After finishing the loop, we return second. If no second largest number was found (i.e., all numbers were the same), we return None."
      ],
      "metadata": {
        "id": "MZDRVRrTUt8L"
      },
      "execution_count": null,
      "outputs": []
    },
    {
      "cell_type": "code",
      "source": [
        "You can test this function with different lists of integers!"
      ],
      "metadata": {
        "id": "HYyg41ykU3ZZ"
      },
      "execution_count": null,
      "outputs": []
    },
    {
      "cell_type": "markdown",
      "source": [
        "13. Create a code to count the occurrences of each element in a list and return a dictionary with elements as keys and their counts as value?\n",
        "\\\n",
        "\n",
        "\n"
      ],
      "metadata": {
        "id": "-9BVWIR5U8LJ"
      }
    },
    {
      "cell_type": "code",
      "source": [
        "Here’s a Python code that counts the occurrences of each element in a list and returns a dictionary where the keys are the list elements and the values are\n",
        "their respective counts:"
      ],
      "metadata": {
        "id": "jGlW0qmMVr7q"
      },
      "execution_count": null,
      "outputs": []
    },
    {
      "cell_type": "code",
      "source": [
        "def count_occurrences(lst):\n",
        "    counts = {}\n",
        "    for element in lst:\n",
        "        if element in counts:\n",
        "            counts[element] += 1\n",
        "        else:\n",
        "            counts[element] = 1\n",
        "    return counts\n",
        "\n",
        "# Example usage\n",
        "my_list = [1, 2, 2, 3, 3, 3, 4, 4, 4, 4]\n",
        "result = count_occurrences(my_list)\n",
        "print(result)"
      ],
      "metadata": {
        "id": "Bomcg-P_LcX2"
      },
      "execution_count": null,
      "outputs": []
    },
    {
      "cell_type": "code",
      "source": [
        "Output"
      ],
      "metadata": {
        "id": "XrsYdKzNLfTG"
      },
      "execution_count": null,
      "outputs": []
    },
    {
      "cell_type": "code",
      "source": [
        "For my_list = [1, 2, 2, 3, 3, 3, 4, 4, 4, 4], this code will output:"
      ],
      "metadata": {
        "id": "z4-h9T2PLjDO"
      },
      "execution_count": null,
      "outputs": []
    },
    {
      "cell_type": "code",
      "source": [
        "{1: 1, 2: 2, 3: 3, 4: 4}"
      ],
      "metadata": {
        "id": "0LHTOivjLjxW"
      },
      "execution_count": null,
      "outputs": []
    },
    {
      "cell_type": "code",
      "source": [
        "This function iterates through the list, checking if each element already exists in the dictionary. If it does, it increments the count; if not, it initializes\n",
        " the count at 1.\n"
      ],
      "metadata": {
        "id": "HfyZHXZcLlpu"
      },
      "execution_count": null,
      "outputs": []
    },
    {
      "cell_type": "markdown",
      "source": [
        "\"14.  Write a code to reverse a list in-place without using any built-in reverse functions?\n",
        "\n"
      ],
      "metadata": {
        "id": "b7Q9CnH8LpiW"
      }
    },
    {
      "cell_type": "markdown",
      "source": [
        "Here’s a simple Python code to reverse a list in-place without using any built-in reverse functions. This code swaps elements from the start and end of the list, moving towards the center"
      ],
      "metadata": {
        "id": "YnySlRqAL0SP"
      }
    },
    {
      "cell_type": "code",
      "source": [
        "def reverse_list(lst):\n",
        "    left = 0\n",
        "    right = len(lst) - 1\n",
        "\n",
        "    while left < right:\n",
        "        # Swap the elements\n",
        "        lst[left], lst[right] = lst[right], lst[left]\n",
        "\n",
        "        # Move indices towards the center\n",
        "        left += 1\n",
        "        right -= 1\n",
        "\n",
        "# Example usage\n",
        "my_list = [1, 2, 3, 4, 5]\n",
        "reverse_list(my_list)\n",
        "print(my_list)  # Output: [5, 4, 3, 2, 1]"
      ],
      "metadata": {
        "id": "5yWp7KC0LyUe"
      },
      "execution_count": null,
      "outputs": []
    },
    {
      "cell_type": "code",
      "source": [
        "This code modifies the list in-place without creating a new list or using any built-in reverse functions."
      ],
      "metadata": {
        "id": "bINHR64oL7Vm"
      },
      "execution_count": null,
      "outputs": []
    },
    {
      "cell_type": "markdown",
      "source": [
        "15. \"\t Implement a code to find and remove duplicates from a list while preserving the original order of  elements?\n",
        "\n"
      ],
      "metadata": {
        "id": "N2lckmSgL-KF"
      }
    },
    {
      "cell_type": "markdown",
      "source": [
        "Here’s a Python code snippet that removes duplicates from a list while preserving the original order of elements:"
      ],
      "metadata": {
        "id": "Bv0VlLudMKBN"
      }
    },
    {
      "cell_type": "code",
      "source": [
        "def remove_duplicates(input_list):\n",
        "    seen = set()\n",
        "    result = []\n",
        "    for item in input_list:\n",
        "        if item not in seen:\n",
        "            result.append(item)\n",
        "            seen.add(item)\n",
        "    return result\n",
        "\n",
        "# Example usage\n",
        "input_list = [1, 2, 3, 2, 4, 3, 5]\n",
        "output_list = remove_duplicates(input_list)\n",
        "print(\"Original list:\", input_list)\n",
        "print(\"List after removing duplicates:\", output_list)"
      ],
      "metadata": {
        "id": "UzDi2dqiMNr-"
      },
      "execution_count": null,
      "outputs": []
    },
    {
      "cell_type": "code",
      "source": [
        "Explanation:\n",
        "\n",
        "1) We initialize an empty set seen to keep track of elements that have already appeared in the list.\n",
        "\n",
        "2) We iterate over each item in input_list.\n",
        "\n",
        "3) If an item is not in seen, we add it to both result (the output list) and seen.\n",
        "\n",
        "4) This maintains the order of first appearances and removes duplicates."
      ],
      "metadata": {
        "id": "ANmbGW0vMP9Y"
      },
      "execution_count": null,
      "outputs": []
    },
    {
      "cell_type": "code",
      "source": [
        "Output:"
      ],
      "metadata": {
        "id": "IVzKmYhVMYb-"
      },
      "execution_count": null,
      "outputs": []
    },
    {
      "cell_type": "code",
      "source": [
        "Original list: [1, 2, 3, 2, 4, 3, 5]\n",
        "List after removing duplicates: [1, 2, 3, 4, 5]"
      ],
      "metadata": {
        "id": "Pu38hD7KMbYv"
      },
      "execution_count": null,
      "outputs": []
    },
    {
      "cell_type": "markdown",
      "source": [
        "16. \"Create a code to check if a given list is sorted (either in ascending or descending order) or not?"
      ],
      "metadata": {
        "id": "vB3RtSk1MoXl"
      }
    },
    {
      "cell_type": "markdown",
      "source": [
        "Here's a Python code snippet to check if a given list is sorted in either ascending or descending order:"
      ],
      "metadata": {
        "id": "-2jwD7oJMtSF"
      }
    },
    {
      "cell_type": "code",
      "source": [
        "def is_sorted(lst):\n",
        "    if lst == sorted(lst):\n",
        "        return \"The list is sorted in ascending order.\"\n",
        "    elif lst == sorted(lst, reverse=True):\n",
        "        return \"The list is sorted in descending order.\"\n",
        "    else:\n",
        "        return \"The list is not sorted.\"\n",
        "\n",
        "# Example usage\n",
        "my_list = [5, 4, 3, 2, 1]\n",
        "print(is_sorted(my_list))"
      ],
      "metadata": {
        "id": "V6EAfkBfNBnN"
      },
      "execution_count": null,
      "outputs": []
    },
    {
      "cell_type": "code",
      "source": [
        "Explanation:\n",
        "\n",
        "1) sorted(lst) checks if the list is in ascending order.\n",
        "\n",
        "2) sorted(lst, reverse=True) checks if the list is in descending order.\n",
        "\n",
        "3) If neither condition is met, the list is unsorted.\n"
      ],
      "metadata": {
        "id": "Dl3qHT6BNEOG"
      },
      "execution_count": null,
      "outputs": []
    },
    {
      "cell_type": "markdown",
      "source": [
        " 17. Write a code to merge two sorted lists into a single sorted list ?\n",
        "\n"
      ],
      "metadata": {
        "id": "9LY-nregN32F"
      }
    },
    {
      "cell_type": "markdown",
      "source": [
        "Here’s a simple Python code that merges two sorted lists into a single sorted list:"
      ],
      "metadata": {
        "id": "JHZFV38GOuXF"
      }
    },
    {
      "cell_type": "code",
      "source": [
        "def merge_sorted_lists(list1, list2):\n",
        "    # Initialize pointers and the result list\n",
        "    i, j = 0, 0\n",
        "    merged_list = []\n",
        "\n",
        "    # Traverse both lists and append the smaller element to the merged list\n",
        "    while i < len(list1) and j < len(list2):\n",
        "        if list1[i] < list2[j]:\n",
        "            merged_list.append(list1[i])\n",
        "            i += 1\n",
        "        else:\n",
        "            merged_list.append(list2[j])\n",
        "            j += 1\n",
        "\n",
        "    # Append any remaining elements from list1 or list2\n",
        "    merged_list.extend(list1[i:])\n",
        "    merged_list.extend(list2[j:])\n",
        "\n",
        "    return merged_list\n",
        "\n",
        "# Example usage\n",
        "list1 = [1, 3, 5, 7]\n",
        "list2 = [2, 4, 6, 8]\n",
        "result = merge_sorted_lists(list1, list2)\n",
        "print(\"Merged list:\", result)"
      ],
      "metadata": {
        "id": "9jYfNFKYOzuN"
      },
      "execution_count": null,
      "outputs": []
    },
    {
      "cell_type": "code",
      "source": [
        "Output"
      ],
      "metadata": {
        "id": "zAkhvt_dO2yF"
      },
      "execution_count": null,
      "outputs": []
    },
    {
      "cell_type": "code",
      "source": [
        "Merged list: [1, 2, 3, 4, 5, 6, 7, 8]"
      ],
      "metadata": {
        "id": "3Qs9rsetO5JV"
      },
      "execution_count": null,
      "outputs": []
    },
    {
      "cell_type": "code",
      "source": [
        "This code efficiently merges two sorted lists by comparing elements one by one and appending the smaller element to the merged_list."
      ],
      "metadata": {
        "id": "_5j0KbjwO7oe"
      },
      "execution_count": null,
      "outputs": []
    },
    {
      "cell_type": "markdown",
      "source": [
        " 18. Implement a code to find the intersection of two given lists?\n",
        "\n"
      ],
      "metadata": {
        "id": "Kc2q7NxnPBaW"
      }
    },
    {
      "cell_type": "markdown",
      "source": [
        "Here's a simple Python code to find the intersection of two lists:"
      ],
      "metadata": {
        "id": "oa8C2zJ8PIUV"
      }
    },
    {
      "cell_type": "code",
      "source": [
        "def find_intersection(list1, list2):\n",
        "    # Convert lists to sets and find the intersection\n",
        "    intersection = list(set(list1) & set(list2))\n",
        "    return intersection\n",
        "\n",
        "# Example usage\n",
        "list1 = [1, 2, 3, 4, 5]\n",
        "list2 = [4, 5, 6, 7, 8]\n",
        "result = find_intersection(list1, list2)\n",
        "print(\"Intersection:\", result)"
      ],
      "metadata": {
        "id": "2uSIyanAPS69"
      },
      "execution_count": null,
      "outputs": []
    },
    {
      "cell_type": "code",
      "source": [
        "Explanation\n",
        "\n",
        "1) set(list1) & set(list2): Converts both lists to sets and finds the common elements.\n",
        "\n",
        "2) list(): Converts the result back into a list format."
      ],
      "metadata": {
        "id": "hpN85XXpPW5P"
      },
      "execution_count": null,
      "outputs": []
    },
    {
      "cell_type": "code",
      "source": [
        "Example Output\n",
        "\n",
        "If list1 = [1, 2, 3, 4, 5] and list2 = [4, 5, 6, 7, 8], the output would be:"
      ],
      "metadata": {
        "id": "qRb-y8bbPfiW"
      },
      "execution_count": null,
      "outputs": []
    },
    {
      "cell_type": "code",
      "source": [
        "Intersection: [4, 5]"
      ],
      "metadata": {
        "id": "zH2f92RrPleF"
      },
      "execution_count": null,
      "outputs": []
    },
    {
      "cell_type": "markdown",
      "source": [
        "19.  Create a code to find the union of two lists without duplicates?"
      ],
      "metadata": {
        "id": "d-T61yutQ3l9"
      }
    },
    {
      "cell_type": "markdown",
      "source": [
        "To find the union of two lists without duplicates, you can use Python's set data structure, which automatically removes duplicates. Here’s a simple code snippet to accomplish this:"
      ],
      "metadata": {
        "id": "kL6f7YLWQyKW"
      }
    },
    {
      "cell_type": "code",
      "source": [
        "def union_lists(list1, list2):\n",
        "    # Convert lists to sets to remove duplicates, then combine\n",
        "    union_set = set(list1).union(set(list2))\n",
        "    # Convert back to list (optional, if you need a list as the final output)\n",
        "    return list(union_set)\n",
        "\n",
        "# Example usage\n",
        "list1 = [1, 2, 3, 4]\n",
        "list2 = [3, 4, 5, 6]\n",
        "result = union_lists(list1, list2)\n",
        "print(result)"
      ],
      "metadata": {
        "id": "9tYwd6ROQ79d"
      },
      "execution_count": null,
      "outputs": []
    },
    {
      "cell_type": "code",
      "source": [
        "Explanation\n",
        "\n",
        "1) Convert each list to a set to eliminate duplicates.\n",
        "\n",
        "2) Use the .union() method to find the union of the two sets.\n",
        "\n",
        "3) Convert the resulting set back to a list if you need the final result as a list."
      ],
      "metadata": {
        "id": "eh33FSPrQ-jU"
      },
      "execution_count": null,
      "outputs": []
    },
    {
      "cell_type": "code",
      "source": [
        "This will print:"
      ],
      "metadata": {
        "id": "u7K0iYXcRF1d"
      },
      "execution_count": null,
      "outputs": []
    },
    {
      "cell_type": "code",
      "source": [
        "[1, 2, 3, 4, 5, 6]"
      ],
      "metadata": {
        "id": "gIt9yvIqRHy0"
      },
      "execution_count": null,
      "outputs": []
    },
    {
      "cell_type": "code",
      "source": [
        "The order of elements may vary since sets are unordered collections."
      ],
      "metadata": {
        "id": "xTczhPFXRT0N"
      },
      "execution_count": null,
      "outputs": []
    },
    {
      "cell_type": "markdown",
      "source": [
        "20 Write a code to shuffle a given list randomly without using any built-in shuffle functions?\n",
        "\n"
      ],
      "metadata": {
        "id": "g7br27mLRVn9"
      }
    },
    {
      "cell_type": "markdown",
      "source": [
        "Here's a Python code to shuffle a list without using any built-in shuffle function like random.shuffle(). We'll use the Fisher-Yates shuffle algorithm (also known as the Knuth shuffle), which is an efficient way to shuffle a list:"
      ],
      "metadata": {
        "id": "bTG1NgI1zBle"
      }
    },
    {
      "cell_type": "code",
      "source": [
        "import random\n",
        "\n",
        "def shuffle_list(lst):\n",
        "    n = len(lst)\n",
        "    for i in range(n - 1, 0, -1):\n",
        "        # Pick a random index from 0 to i\n",
        "        j = random.randint(0, i)\n",
        "        # Swap lst[i] with the element at random index\n",
        "        lst[i], lst[j] = lst[j], lst[i]\n",
        "    return lst\n",
        "\n",
        "# Example usage\n",
        "my_list = [1, 2, 3, 4, 5]\n",
        "shuffled_list = shuffle_list(my_list)\n",
        "print(\"Shuffled list:\", shuffled_list)"
      ],
      "metadata": {
        "id": "Jn49KAMizI_i"
      },
      "execution_count": null,
      "outputs": []
    },
    {
      "cell_type": "code",
      "source": [
        "Explanation\n",
        "\n",
        "1) Starting from the end of the list, pick a random index within the range.\n",
        "\n",
        "2) Swap the current element with the element at the randomly chosen index.\n",
        "\n",
        "3) Repeat this process, moving backward through the list until every element has been considered."
      ],
      "metadata": {
        "id": "PAg2DvS0zNWV"
      },
      "execution_count": null,
      "outputs": []
    },
    {
      "cell_type": "code",
      "source": [
        "Each element gets swapped exactly once, ensuring an unbiased shuffle."
      ],
      "metadata": {
        "id": "fiMPp4tkzcuY"
      },
      "execution_count": null,
      "outputs": []
    },
    {
      "cell_type": "markdown",
      "source": [
        "21. Write a code that takes two tuples as input and returns a new tuple containing elements that are  common to both input tuples?"
      ],
      "metadata": {
        "id": "Z89MkJkUzs9F"
      }
    },
    {
      "cell_type": "markdown",
      "source": [
        "Here's a Python function that takes two tuples as input and returns a new tuple containing elements that are common to both:"
      ],
      "metadata": {
        "id": "_jOGHTGXz2Bt"
      }
    },
    {
      "cell_type": "code",
      "source": [
        "def common_elements(tuple1, tuple2):\n",
        "    return tuple(set(tuple1) & set(tuple2))\n",
        "\n",
        "# Example usage\n",
        "tuple1 = (1, 2, 3, 4)\n",
        "tuple2 = (3, 4, 5, 6)\n",
        "result = common_elements(tuple1, tuple2)\n",
        "print(\"Common elements:\", result)"
      ],
      "metadata": {
        "id": "v6qdu_NLz6T1"
      },
      "execution_count": null,
      "outputs": []
    },
    {
      "cell_type": "code",
      "source": [
        "Explanation\n",
        "\n",
        "1) We convert each tuple to a set to allow for intersection (&), which finds common elements.\n",
        "\n",
        "2) Finally, we convert the resulting set back to a tuple."
      ],
      "metadata": {
        "id": "zErNxf1wz8lH"
      },
      "execution_count": null,
      "outputs": []
    },
    {
      "cell_type": "code",
      "source": [
        "Output"
      ],
      "metadata": {
        "id": "EPpJ8Ny70Dqt"
      },
      "execution_count": null,
      "outputs": []
    },
    {
      "cell_type": "code",
      "source": [
        "This will print:"
      ],
      "metadata": {
        "id": "xKsoF_IH0H5u"
      },
      "execution_count": null,
      "outputs": []
    },
    {
      "cell_type": "code",
      "source": [
        "Common elements: (3, 4)"
      ],
      "metadata": {
        "id": "5AHZZZkj0J-G"
      },
      "execution_count": null,
      "outputs": []
    },
    {
      "cell_type": "code",
      "source": [
        "Let me know if you'd like further customization!"
      ],
      "metadata": {
        "id": "vI92ZAgK0Lsd"
      },
      "execution_count": null,
      "outputs": []
    },
    {
      "cell_type": "markdown",
      "source": [
        "22. Create a code that prompts the user to enter two sets of integers separated by commas. Then, print the  intersection of these two sets ?"
      ],
      "metadata": {
        "id": "2IVUkHwc04fC"
      }
    },
    {
      "cell_type": "markdown",
      "source": [
        "Here's a Python code that will prompt the user to enter two sets of integers (separated by commas), then calculate and print the intersection of those sets:"
      ],
      "metadata": {
        "id": "GSkVEIho1U0c"
      }
    },
    {
      "cell_type": "code",
      "source": [
        "# Prompt the user to enter two sets of integers\n",
        "set1_input = input(\"Enter the first set of integers, separated by commas: \")\n",
        "set2_input = input(\"Enter the second set of integers, separated by commas: \")\n",
        "\n",
        "# Convert the input strings to sets of integers\n",
        "set1 = set(map(int, set1_input.split(',')))\n",
        "set2 = set(map(int, set2_input.split(',')))\n",
        "\n",
        "# Find the intersection of the two sets\n",
        "intersection = set1.intersection(set2)\n",
        "\n",
        "# Print the result\n",
        "print(\"The intersection of the two sets is:\", intersection)"
      ],
      "metadata": {
        "id": "XCxdTZXg1eo3"
      },
      "execution_count": null,
      "outputs": []
    },
    {
      "cell_type": "code",
      "source": [
        "How it Works:\n",
        "\n",
        "1) It splits each input string by commas, converts each item to an integer, and then creates a set.\n",
        "\n",
        "2) It then finds the intersection of the two sets using the .intersection() method.\n",
        "\n",
        "3) Finally, it prints the intersection."
      ],
      "metadata": {
        "id": "NqPJR0AF1gy0"
      },
      "execution_count": null,
      "outputs": []
    },
    {
      "cell_type": "markdown",
      "source": [
        "23. Write a code to concatenate two tuples. The function should take two tuples as input and return a new  tuple containing elements from both input tuples?"
      ],
      "metadata": {
        "id": "tIji5CQE1vyz"
      }
    },
    {
      "cell_type": "markdown",
      "source": [
        "Here's a simple function to concatenate two tuples in Python:"
      ],
      "metadata": {
        "id": "nFh7E_7211jU"
      }
    },
    {
      "cell_type": "code",
      "source": [
        "def concatenate_tuples(tuple1, tuple2):\n",
        "    return tuple1 + tuple2"
      ],
      "metadata": {
        "id": "VPqrt0yJ14Dx"
      },
      "execution_count": null,
      "outputs": []
    },
    {
      "cell_type": "code",
      "source": [
        "Example usage:"
      ],
      "metadata": {
        "id": "3jVmHsC217Nj"
      },
      "execution_count": null,
      "outputs": []
    },
    {
      "cell_type": "code",
      "source": [
        "tuple1 = (1, 2, 3)\n",
        "tuple2 = (4, 5, 6)\n",
        "result = concatenate_tuples(tuple1, tuple2)\n",
        "print(result)  # Output: (1, 2, 3, 4, 5, 6)"
      ],
      "metadata": {
        "id": "CSw9orab2Hx9"
      },
      "execution_count": null,
      "outputs": []
    },
    {
      "cell_type": "code",
      "source": [
        "This function uses the + operator to concatenate the tuples and returns a new tuple with elements from both input tuples."
      ],
      "metadata": {
        "id": "T1o1oWIg2Q0W"
      },
      "execution_count": null,
      "outputs": []
    },
    {
      "cell_type": "markdown",
      "source": [
        " 24. Develop a code that prompts the user to input two sets of strings. Then, print the elements that are  present in the first set but not in the second set?"
      ],
      "metadata": {
        "id": "g49aukQ53hoP"
      }
    },
    {
      "cell_type": "markdown",
      "source": [
        "Here's a Python script that prompts the user to input two sets of strings and then prints the elements that are present in the first set but not in the second set"
      ],
      "metadata": {
        "id": "LaWW1kZe3oc_"
      }
    },
    {
      "cell_type": "code",
      "source": [
        "# Prompt the user to input the first setof strings\n",
        "set1 = set(input(\"Enter elements of the first set separated by spaces: \").split())\n",
        "\n",
        "# Prompt the user to input the second set of strings\n",
        "set2 = set(input(\"Enter elements of the second set separated by spaces: \").split())\n",
        "\n",
        "# Find elements that are in the first set but not in the second set\n",
        "difference = set1 - set2\n",
        "\n",
        "# Print the result\n",
        "print(\"Elements in the first set but not in the second set:\", difference)"
      ],
      "metadata": {
        "id": "UJCQ9aKZ3t0e"
      },
      "execution_count": null,
      "outputs": []
    },
    {
      "cell_type": "code",
      "source": [
        "How it works:\n",
        "\n",
        "1) The user is prompted to enter elements of the first and second sets as space-separated strings.\n",
        "\n",
        "2) The split() method splits the input into individual strings, and set() converts them into sets.\n",
        "\n",
        "3) The difference between the two sets is found using set1 - set2, which returns elements that are in set1 but not in set2.\n",
        "The result is printed.\n"
      ],
      "metadata": {
        "id": "FKirC6Vd3w38"
      },
      "execution_count": null,
      "outputs": []
    },
    {
      "cell_type": "code",
      "source": [
        "This code is case-sensitive, so Apple and apple would be treated as different elements."
      ],
      "metadata": {
        "id": "aQ6KXLkL35i7"
      },
      "execution_count": null,
      "outputs": []
    },
    {
      "cell_type": "markdown",
      "source": [
        " 25. Create a code that takes a tuple and two integers as input. The function should return a new tuple  containing elements from the original tuple within the specified range of indices?"
      ],
      "metadata": {
        "id": "oLY_wnH-4Fqm"
      }
    },
    {
      "cell_type": "markdown",
      "source": [
        "Here's a Python function that takes a tuple and two integers as input and returns a new tuple containing elements from the original tuple within the specified range of indices."
      ],
      "metadata": {
        "id": "Pdx-dhy-4K3l"
      }
    },
    {
      "cell_type": "code",
      "source": [
        "def slice_tuple(original_tuple, start_index, end_index):\n",
        "    # Ensure the start and end indices are within the tuple's range\n",
        "    if start_index < 0 or end_index >= len(original_tuple):\n",
        "        return \"Invalid index range\"\n",
        "    # Return the sliced tuple from start_index to end_index (inclusive)\n",
        "    return original_tuple[start_index:end_index+1]\n",
        "\n",
        "# Example usage\n",
        "original_tuple = (1, 2, 3, 4, 5, 6, 7)\n",
        "start = 2\n",
        "end = 5\n",
        "result = slice_tuple(original_tuple, start, end)\n",
        "print(result)  # Output: (3, 4, 5, 6)"
      ],
      "metadata": {
        "colab": {
          "base_uri": "https://localhost:8080/"
        },
        "id": "gNTHtVWx4OXD",
        "outputId": "9e719cf4-4700-4d49-ec7c-1ae0fc07fad0"
      },
      "execution_count": null,
      "outputs": [
        {
          "output_type": "stream",
          "name": "stdout",
          "text": [
            "(3, 4, 5, 6)\n"
          ]
        }
      ]
    },
    {
      "cell_type": "code",
      "source": [
        "This function performs a slice on the tuple using start_index and end_index (inclusive). If the indices go out of range, it returns an error message.\n"
      ],
      "metadata": {
        "id": "6RYLB4AX4UMW"
      },
      "execution_count": null,
      "outputs": []
    },
    {
      "cell_type": "markdown",
      "source": [
        "26.Write a code that prompts the user to input two sets of characters. Then, print the union of these two sets?\n",
        "\n"
      ],
      "metadata": {
        "id": "BC5AyqzJ4WFF"
      }
    },
    {
      "cell_type": "markdown",
      "source": [
        "Here's a simple Python code to get two sets of characters from the user, then print the union of those sets:"
      ],
      "metadata": {
        "id": "SGyQ6ONtN1ZN"
      }
    },
    {
      "cell_type": "code",
      "source": [
        "# Prompt the user to input two sets of characters\n",
        "set1 = set(input(\"Enter the first set of characters (no spaces): \"))\n",
        "set2 = set(input(\"Enter the second set of characters (no spaces): \"))\n",
        "\n",
        "# Find and print the union of the two sets\n",
        "union_set = set1.union(set2)\n",
        "print(\"Union of the two sets:\", union_set)\n"
      ],
      "metadata": {
        "id": "xhteI_SSl0_f"
      },
      "execution_count": null,
      "outputs": []
    },
    {
      "cell_type": "code",
      "source": [
        "Explanation:\n",
        "\n",
        "1) The code takes input from the user for each set, treating each character as a unique element in the set.\n",
        "\n",
        "2) It then calculates the union of the two sets using the .union() method.\n",
        "\n",
        "Finally, it prints the result.\n"
      ],
      "metadata": {
        "id": "5lwC_l17l32G"
      },
      "execution_count": null,
      "outputs": []
    },
    {
      "cell_type": "code",
      "source": [
        "You can enter characters without spaces, or add .replace(\" \", \"\") to remove spaces automatically if the input includes them."
      ],
      "metadata": {
        "id": "6oqWmAE5mB1V"
      },
      "execution_count": null,
      "outputs": []
    },
    {
      "cell_type": "markdown",
      "source": [
        "27. Develop a code that takes a tuple of integers as input. The function should return the maximum and  minimum values from the tuple using tuple unpacking ?"
      ],
      "metadata": {
        "id": "Zvh7hcj6mDby"
      }
    },
    {
      "cell_type": "markdown",
      "source": [
        "Here’s a Python function that takes a tuple of integers as input and returns the maximum and minimum values using tuple unpacking:"
      ],
      "metadata": {
        "id": "F0py7TCKmSBA"
      }
    },
    {
      "cell_type": "code",
      "source": [
        "def max_min_values(numbers):\n",
        "    # Sort the tuple to find the minimum and maximum values\n",
        "    sorted_numbers = sorted(numbers)\n",
        "    min_value, *_, max_value = sorted_numbers\n",
        "    return max_value, min_value\n",
        "\n",
        "# Example usage:\n",
        "numbers = (3, 7, 1, 9, 4)\n",
        "max_val, min_val = max_min_values(numbers)\n",
        "print(\"Maximum:\", max_val)\n",
        "print(\"Minimum:\", min_val)\n"
      ],
      "metadata": {
        "id": "Davwek5umY3F"
      },
      "execution_count": null,
      "outputs": []
    },
    {
      "cell_type": "code",
      "source": [
        "Explanation:\n",
        "\n",
        "1) The sorted() function sorts the tuple.\n",
        "\n",
        "2) Using tuple unpacking, we assign the first element (min_value) and the last element (max_value) to variables.\n",
        "\n",
        "3) The function then returns the maximum and minimum values as a tuple."
      ],
      "metadata": {
        "id": "z0GoYJVDmbbz"
      },
      "execution_count": null,
      "outputs": []
    },
    {
      "cell_type": "code",
      "source": [
        "This approach guarantees that the maximum and minimum values are extracted accurately from the tuple."
      ],
      "metadata": {
        "id": "dhf9r7mlmmek"
      },
      "execution_count": null,
      "outputs": []
    },
    {
      "cell_type": "markdown",
      "source": [
        "28.  Create a code that defines two sets of integers. Then, print the union, intersection, and difference of these  two sets?"
      ],
      "metadata": {
        "id": "xsh0ZcvAmnq0"
      }
    },
    {
      "cell_type": "markdown",
      "source": [
        "Here's a Python code that defines two sets of integers, then calculates and prints their union, intersection, and difference:"
      ],
      "metadata": {
        "id": "75D-eraymz57"
      }
    },
    {
      "cell_type": "code",
      "source": [
        "# Define two sets of integers\n",
        "set_a = {1, 2, 3, 4, 5}\n",
        "set_b = {4, 5, 6, 7, 8}\n",
        "\n",
        "# Calculate and print the union\n",
        "union_set = set_a | set_b\n",
        "print(\"Union:\", union_set)\n",
        "\n",
        "# Calculate and print the intersection\n",
        "intersection_set = set_a & set_b\n",
        "print(\"Intersection:\", intersection_set)\n",
        "\n",
        "# Calculate and print the difference (elements in set_a but not in set_b)\n",
        "difference_set = set_a - set_b\n",
        "print(\"Difference (set_a - set_b):\", difference_set)\n",
        "\n",
        "# Calculate and print the difference (elements in set_b but not in set_a)\n",
        "difference_set_b = set_b - set_a\n",
        "print(\"Difference (set_b - set_a):\", difference_set_b)"
      ],
      "metadata": {
        "id": "rA0DO0W1m4lP"
      },
      "execution_count": null,
      "outputs": []
    },
    {
      "cell_type": "code",
      "source": [
        "Explanation:\n",
        "\n",
        "1) | operator computes the union.\n",
        "\n",
        "2) operator computes the intersection.\n",
        "\n",
        "3) operator computes the difference."
      ],
      "metadata": {
        "id": "KqAipL47m8ri"
      },
      "execution_count": null,
      "outputs": []
    },
    {
      "cell_type": "code",
      "source": [
        "When you run this code, it will display the union, intersection, and both differences between set_a and set_b."
      ],
      "metadata": {
        "id": "sMx9VrDanSvg"
      },
      "execution_count": null,
      "outputs": []
    },
    {
      "cell_type": "markdown",
      "source": [
        "29. Write a code that takes a tuple and an element as input. The function should return the count of  occurrences of the given element in the tuple ?\n",
        "\n"
      ],
      "metadata": {
        "id": "eVfNcdb1nj5U"
      }
    },
    {
      "cell_type": "markdown",
      "source": [
        "Here's a Python function that takes a tuple and an element as input, and returns the count of occurrences of the given element in the tuple:"
      ],
      "metadata": {
        "id": "nksgUonKn4-z"
      }
    },
    {
      "cell_type": "code",
      "source": [
        "def count_occurrences(input_tuple, element):\n",
        "    return input_tuple.count(element)\n",
        "\n",
        "# Example usage\n",
        "my_tuple = (1, 2, 3, 4, 2, 5, 2)\n",
        "element = 2\n",
        "print(count_occurrences(my_tuple, element))  # Output: 3"
      ],
      "metadata": {
        "colab": {
          "base_uri": "https://localhost:8080/"
        },
        "id": "TNTdMmtbn-bd",
        "outputId": "911169e3-e238-4715-8122-f24804f743a5"
      },
      "execution_count": 1,
      "outputs": [
        {
          "output_type": "stream",
          "name": "stdout",
          "text": [
            "3\n"
          ]
        }
      ]
    },
    {
      "cell_type": "code",
      "source": [
        "The count_occurrences function uses the .count() method, which counts the occurrences of the specified element within the tuple."
      ],
      "metadata": {
        "id": "rZvSAri1oBFj"
      },
      "execution_count": null,
      "outputs": []
    },
    {
      "cell_type": "markdown",
      "source": [
        "30. Develop a code that prompts the user to input two sets of strings. Then, print the symmetric difference of  these two sets ?\n",
        "\n"
      ],
      "metadata": {
        "id": "Pv7455N2ovb5"
      }
    },
    {
      "cell_type": "markdown",
      "source": [
        "Here's a Python code that prompts the user to enter two sets of strings, and then calculates and prints the symmetric difference of the two sets. The symmetric difference will contain elements that are in either of the sets but not in both."
      ],
      "metadata": {
        "id": "xNzPH34goy6K"
      }
    },
    {
      "cell_type": "code",
      "source": [
        "# Get input from the user for two sets\n",
        "set1 = set(input(\"Enter the elements of the first set, separated by spaces: \").split())\n",
        "set2 = set(input(\"Enter the elements of the second set, separated by spaces: \").split())\n",
        "\n",
        "# Calculate the symmetric difference\n",
        "symmetric_difference = set1.symmetric_difference(set2)\n",
        "\n",
        "# Display the result\n",
        "print(\"The symmetric difference between the two sets is:\", symmetric_difference)"
      ],
      "metadata": {
        "id": "GT4zoxZJo3Ki"
      },
      "execution_count": null,
      "outputs": []
    },
    {
      "cell_type": "code",
      "source": [
        "How it works:\n",
        "\n",
        "1) The user inputs two sets of space-separated strings.\n",
        "\n",
        "2) split() splits each input string by spaces, and set() converts them to sets.\n",
        "\n",
        "3) set1.symmetric_difference(set2) computes the symmetric difference of the two sets.\n",
        "\n",
        "The result is printed out.\n"
      ],
      "metadata": {
        "id": "FR6FKIvio6Lt"
      },
      "execution_count": null,
      "outputs": []
    },
    {
      "cell_type": "markdown",
      "source": [
        "31. Write a code that takes a list of words as input and returns a dictionary where the keys are unique words  and the values are the frequencies of those words in the input list?\n",
        "\n",
        "\n"
      ],
      "metadata": {
        "id": "2Ux6UUlhpEwV"
      }
    },
    {
      "cell_type": "markdown",
      "source": [
        "Here's a Python function that accomplishes this task:"
      ],
      "metadata": {
        "id": "l0dMWKKNpoqb"
      }
    },
    {
      "cell_type": "code",
      "source": [
        "def word_frequencies(word_list):\n",
        "    frequency_dict = {}\n",
        "    for word in word_list:\n",
        "        frequency_dict[word] = frequency_dict.get(word, 0) + 1\n",
        "    return frequency_dict\n",
        "\n",
        "# Example usage\n",
        "words = [\"apple\", \"banana\", \"apple\", \"orange\", \"banana\", \"apple\"]\n",
        "print(word_frequencies(words))"
      ],
      "metadata": {
        "id": "4GHrgH6qpwA6"
      },
      "execution_count": null,
      "outputs": []
    },
    {
      "cell_type": "code",
      "source": [
        "Explanation\n",
        "\n",
        "1) The function word_frequencies takes a list of words, word_list, as input.\n",
        "\n",
        "2) It initializes an empty dictionary, frequency_dict.\n",
        "\n",
        "3) For each word in the list, it either increments the count if the word is already a key in the dictionary or initializes it to 1 if the word is encountered for the first time.\n",
        "\n",
        "4) The resulting dictionary contains each unique word as a key and its count as the corresponding value.\n"
      ],
      "metadata": {
        "id": "Yhg__4YJpzUW"
      },
      "execution_count": null,
      "outputs": []
    },
    {
      "cell_type": "code",
      "source": [
        "Output for the Example"
      ],
      "metadata": {
        "id": "82D_cvJyqIbD"
      },
      "execution_count": null,
      "outputs": []
    },
    {
      "cell_type": "code",
      "source": [
        "For the input list [\"apple\", \"banana\", \"apple\", \"orange\", \"banana\", \"apple\"], the output will be:"
      ],
      "metadata": {
        "id": "jqzu2XSfqJQ5"
      },
      "execution_count": null,
      "outputs": []
    },
    {
      "cell_type": "code",
      "source": [
        "{'apple': 3, 'banana': 2, 'orange': 1}"
      ],
      "metadata": {
        "id": "i7cXKKhrqMHo"
      },
      "execution_count": null,
      "outputs": []
    },
    {
      "cell_type": "markdown",
      "source": [
        "32. Write a code that takes two dictionaries as input and merges them into a single dictionary. If there are common keys, the values should be added together?\n"
      ],
      "metadata": {
        "id": "Woii9WtbqO05"
      }
    },
    {
      "cell_type": "markdown",
      "source": [
        "Here’s a Python function that takes two dictionaries as input and merges them. If there are common keys, it will add their values together."
      ],
      "metadata": {
        "id": "St-iAiYsqgIZ"
      }
    },
    {
      "cell_type": "code",
      "source": [
        "def merge_dictionaries(dict1, dict2):\n",
        "    merged_dict = dict1.copy()  # Start with the first dictionary\n",
        "\n",
        "    for key, value in dict2.items():\n",
        "        if key in merged_dict:\n",
        "            merged_dict[key] += value  # Add values if key is common\n",
        "        else:\n",
        "            merged_dict[key] = value  # Add key-value pair if key is not in merged_dict\n",
        "\n",
        "    return merged_dict\n",
        "\n",
        "# Example usage:\n",
        "dict1 = {'a': 5, 'b': 10, 'c': 15}\n",
        "dict2 = {'b': 7, 'c': 3, 'd': 12}\n",
        "\n",
        "merged_dict = merge_dictionaries(dict1, dict2)\n",
        "print(merged_dict)"
      ],
      "metadata": {
        "id": "8bcAt9bNqjbf"
      },
      "execution_count": null,
      "outputs": []
    },
    {
      "cell_type": "code",
      "source": [
        "Output:"
      ],
      "metadata": {
        "id": "neUDx1R_qm3S"
      },
      "execution_count": null,
      "outputs": []
    },
    {
      "cell_type": "code",
      "source": [
        "{'a': 5, 'b': 17, 'c': 18, 'd': 12}"
      ],
      "metadata": {
        "id": "Diziygb4qrOv"
      },
      "execution_count": null,
      "outputs": []
    },
    {
      "cell_type": "code",
      "source": [
        "This function will merge the two dictionaries as specified, adding values for common keys."
      ],
      "metadata": {
        "id": "NlD0NQeJqsTO"
      },
      "execution_count": null,
      "outputs": []
    },
    {
      "cell_type": "markdown",
      "source": [
        "33. Write a code to access a value in a nested dictionary. The function should take the dictionary and a list of  keys as input, and return the corresponding value. If any of the keys do not exist in the dictionary, the function should return None ?"
      ],
      "metadata": {
        "id": "YPoL3x-zrCUn"
      }
    },
    {
      "cell_type": "markdown",
      "source": [
        "Here’s a Python function to access a value in a nested dictionary using a list of keys. If any of the keys don't exist, the function will return None."
      ],
      "metadata": {
        "id": "AJvGiq0SrF5w"
      }
    },
    {
      "cell_type": "code",
      "source": [
        "def get_nested_value(data, keys):\n",
        "    current = data\n",
        "    for key in keys:\n",
        "        if isinstance(current, dict) and key in current:\n",
        "            current = current[key]\n",
        "        else:\n",
        "            return None\n",
        "    return current"
      ],
      "metadata": {
        "id": "HrKXThyOrJ4v"
      },
      "execution_count": null,
      "outputs": []
    },
    {
      "cell_type": "code",
      "source": [
        "Example Usage"
      ],
      "metadata": {
        "id": "2rjcmEeCrMzX"
      },
      "execution_count": null,
      "outputs": []
    },
    {
      "cell_type": "code",
      "source": [
        "nested_dict = {\n",
        "    'a': {\n",
        "        'b': {\n",
        "            'c': 'd'\n",
        "        }\n",
        "    }\n",
        "}\n",
        "\n",
        "# To get the value 'd' at the path ['a', 'b', 'c']:\n",
        "print(get_nested_value(nested_dict, ['a', 'b', 'c']))  # Output: 'd'\n",
        "\n",
        "# Trying to access a non-existing path:\n",
        "print(get_nested_value(nested_dict, ['a', 'x', 'c']))  # Output: None\n"
      ],
      "metadata": {
        "id": "g_A4hf1LrVAQ"
      },
      "execution_count": null,
      "outputs": []
    },
    {
      "cell_type": "code",
      "source": [
        "This function will return None if any key along the path is missing."
      ],
      "metadata": {
        "id": "RTnHn29fraXE"
      },
      "execution_count": null,
      "outputs": []
    },
    {
      "cell_type": "markdown",
      "source": [
        "34. Write a code that takes a dictionary as input and returns a sorted version of it based on the values. You  can choose whether to sort in ascending or descending ordeR?"
      ],
      "metadata": {
        "id": "j1Lg34J3rdN3"
      }
    },
    {
      "cell_type": "markdown",
      "source": [
        "Here’s a Python function that takes a dictionary as input and returns a sorted version of it based on the values. You can specify the sorting order with an optional parameter."
      ],
      "metadata": {
        "id": "YPJA1ZV_robm"
      }
    },
    {
      "cell_type": "code",
      "source": [
        "def sort_dict_by_value(d, descending=False):\n",
        "    \"\"\"\n",
        "    Sorts a dictionary by its values.\n",
        "\n",
        "    Parameters:\n",
        "    d (dict): The dictionary to sort.\n",
        "    descending (bool): Sort in descending order if True, otherwise ascending. Default is False (ascending).\n",
        "\n",
        "    Returns:\n",
        "    dict: A new dictionary sorted by values.\n",
        "    \"\"\"\n",
        "    return dict(sorted(d.items(), key=lambda item: item[1], reverse=descending))\n",
        "\n",
        "# Example usage:\n",
        "data = {'apple': 10, 'banana': 2, 'orange': 5}\n",
        "sorted_data_asc = sort_dict_by_value(data)  # Ascending order\n",
        "sorted_data_desc = sort_dict_by_value(data, descending=True)  # Descending order\n",
        "\n",
        "print(\"Ascending:\", sorted_data_asc)\n",
        "print(\"Descending:\", sorted_data_desc)"
      ],
      "metadata": {
        "id": "HtQ6s7K2sfUe"
      },
      "execution_count": null,
      "outputs": []
    },
    {
      "cell_type": "code",
      "source": [
        "This function will output:"
      ],
      "metadata": {
        "id": "6BduXrtms-a3"
      },
      "execution_count": null,
      "outputs": []
    },
    {
      "cell_type": "code",
      "source": [
        "Ascending: {'banana': 2, 'orange': 5, 'apple': 10}\n",
        "Descending: {'apple': 10, 'orange': 5, 'banana': 2}"
      ],
      "metadata": {
        "id": "B32UX0b9tBkF"
      },
      "execution_count": null,
      "outputs": []
    },
    {
      "cell_type": "markdown",
      "source": [
        "35.  Write a code that inverts a dictionary, swapping keys and values. Ensure that the inverted dictionary  correctly handles cases where multiple keys have the same value by storing the keys as a list in the inverted dictionary?"
      ],
      "metadata": {
        "id": "vhfdNsDNtIFv"
      }
    },
    {
      "cell_type": "markdown",
      "source": [
        "Here’s a Python function that inverts a dictionary, handling cases where multiple keys have the same value by storing the keys in a list:"
      ],
      "metadata": {
        "id": "RtwFnTbrtW9d"
      }
    },
    {
      "cell_type": "code",
      "source": [
        "def invert_dict(d):\n",
        "    inverted_dict = {}\n",
        "    for key, value in d.items():\n",
        "        # If the value is already a key in inverted_dict, append the current key to the list\n",
        "        if value in inverted_dict:\n",
        "            inverted_dict[value].append(key)\n",
        "        else:\n",
        "            # If the value is not a key in inverted_dict, create a new entry with the key as a list\n",
        "            inverted_dict[value] = [key]\n",
        "    return inverted_dict"
      ],
      "metadata": {
        "id": "bQpUYT01tV3X"
      },
      "execution_count": null,
      "outputs": []
    },
    {
      "cell_type": "code",
      "source": [
        "Example usage:"
      ],
      "metadata": {
        "id": "zVcwSNlLtiNm"
      },
      "execution_count": null,
      "outputs": []
    },
    {
      "cell_type": "code",
      "source": [
        "original_dict = {'a': 1, 'b': 2, 'c': 1, 'd': 3}\n",
        "inverted = invert_dict(original_dict)\n",
        "print(inverted)"
      ],
      "metadata": {
        "id": "L5dGcLkmtsNP"
      },
      "execution_count": null,
      "outputs": []
    },
    {
      "cell_type": "code",
      "source": [
        "Output:"
      ],
      "metadata": {
        "id": "uG4n-2D_tu87"
      },
      "execution_count": null,
      "outputs": []
    },
    {
      "cell_type": "code",
      "source": [
        "{1: ['a', 'c'], 2: ['b'], 3: ['d']}"
      ],
      "metadata": {
        "id": "obyG3_q9txef"
      },
      "execution_count": null,
      "outputs": []
    },
    {
      "cell_type": "code",
      "source": [
        "This code will handle cases with duplicate values by grouping the corresponding keys in a list in the inverted dictionary."
      ],
      "metadata": {
        "id": "hnLiSel6tz6d"
      },
      "execution_count": null,
      "outputs": []
    }
  ]
}